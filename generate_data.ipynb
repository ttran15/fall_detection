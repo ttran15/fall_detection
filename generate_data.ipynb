{
 "cells": [
  {
   "cell_type": "code",
   "execution_count": 1,
   "id": "1bca1365-5b8e-4f9b-bf4d-9c91c2d1bbe8",
   "metadata": {},
   "outputs": [],
   "source": [
    "import numpy as np\n",
    "import pandas as pd\n",
    "import tqdm\n",
    "import collections \n",
    "import time\n",
    "import pickle\n",
    "import random"
   ]
  },
  {
   "cell_type": "code",
   "execution_count": 2,
   "id": "cebbd8a1-17e6-404d-baa8-7e43e6bcc25a",
   "metadata": {},
   "outputs": [],
   "source": [
    "# CONSTANT\n",
    "WINDOW_SIZE = 40\n",
    "THRESHOLD = 25"
   ]
  },
  {
   "cell_type": "code",
   "execution_count": 3,
   "id": "b0620da2-8d54-41bd-b538-2cbf53770e6e",
   "metadata": {},
   "outputs": [],
   "source": [
    "def select_random_sample(dic,number,file_name=None):\n",
    "    random.seed(42)\n",
    "    random_list = random.sample(list(dic.keys()),number)\n",
    "    dic_random = {i: dic[i] for i in random_list}\n",
    "    if (file_name != None):\n",
    "        with open('data/' + file_name + '.pkl', 'wb') as file:\n",
    "            pickle.dump(dic_random, file)\n",
    "    return dic_random"
   ]
  },
  {
   "cell_type": "code",
   "execution_count": 4,
   "id": "e6dd4577-6bc6-4b72-b964-61848c42d3ea",
   "metadata": {},
   "outputs": [],
   "source": [
    "def load_dic(file_name):\n",
    "    with open('data/' + file_name + '.pkl', 'rb') as file:\n",
    "        data = pickle.load(file)\n",
    "    return data"
   ]
  },
  {
   "cell_type": "code",
   "execution_count": 5,
   "id": "a78b6c01-4725-4347-9504-1fb07ef61391",
   "metadata": {},
   "outputs": [],
   "source": [
    "def generate_dic(ls_X,ls_y,file_name=None):\n",
    "    dic = {}\n",
    "    for i in range(0,len(ls_X)):\n",
    "        # X\n",
    "        df_chunk = pd.DataFrame(ls_X[i]).T\n",
    "        # y\n",
    "        label_chunk = ls_y[i]\n",
    "        dic[i] = (df_chunk,label_chunk)\n",
    "    if (file_name != None):\n",
    "        with open('data/' + file_name + '.pkl', 'wb') as file:\n",
    "            pickle.dump(dic, file)\n",
    "    return dic"
   ]
  },
  {
   "cell_type": "code",
   "execution_count": 6,
   "id": "81e29bbd-a9e4-4288-ae9f-c6959212ade2",
   "metadata": {},
   "outputs": [],
   "source": [
    "train_df = pd.read_csv('data/raw182_Training_Relabeled_Auto_25.csv')\n",
    "test_df = pd.read_csv('data/raw91_Testing_Relabeled_Auto_25.csv')"
   ]
  },
  {
   "cell_type": "markdown",
   "id": "4fc90bc5-be5a-4515-8c3e-58b21d765981",
   "metadata": {},
   "source": [
    "### data preprocessing\n",
    "\n",
    "- sliding window = 40\n",
    "- if there is equal or more than 25 fall -> label of chunk is fall"
   ]
  },
  {
   "cell_type": "code",
   "execution_count": 7,
   "id": "f17c028b-bb80-48ea-8a39-235b627de382",
   "metadata": {},
   "outputs": [
    {
     "name": "stderr",
     "output_type": "stream",
     "text": [
      "100%|██████████████████████████████████| 33980/33980 [00:01<00:00, 20102.43it/s]\n"
     ]
    }
   ],
   "source": [
    "n = 40\n",
    "X_train_notfall, X_train_fall, y_train_notfall, y_train_fall = list(), list(), list(), list()\n",
    "for i in tqdm.tqdm(range(0, len(train_df) - WINDOW_SIZE)):\n",
    "    chunk = list()\n",
    "    \n",
    "    chunk.append(train_df[' ms_accelerometer_x'][i : i + n])\n",
    "    chunk.append(train_df[' ms_accelerometer_y'][i : i + n])\n",
    "    chunk.append(train_df[' ms_accelerometer_z'][i : i + n])\n",
    "    \n",
    "    count = collections.Counter(train_df['outcome'][i : i + n])\n",
    "    num_fall = count[1]\n",
    "    \n",
    "    if num_fall >= THRESHOLD:\n",
    "        y_train_fall.append(1)\n",
    "        X_train_fall.append(chunk)\n",
    "    else:\n",
    "        y_train_notfall.append(0)\n",
    "        X_train_notfall.append(chunk)"
   ]
  },
  {
   "cell_type": "code",
   "execution_count": 8,
   "id": "b5d0b9a5-00e3-4bfd-9dd4-3ca875967800",
   "metadata": {},
   "outputs": [
    {
     "name": "stderr",
     "output_type": "stream",
     "text": [
      "100%|██████████████████████████████████| 17189/17189 [00:00<00:00, 18305.67it/s]\n"
     ]
    }
   ],
   "source": [
    "n = 40\n",
    "X_test_notfall, X_test_fall, y_test_notfall, y_test_fall = list(), list(), list(), list()\n",
    "for i in tqdm.tqdm(range(0, len(test_df) - WINDOW_SIZE)):\n",
    "    chunk = list()\n",
    "    \n",
    "    chunk.append(test_df[' ms_accelerometer_x'][i : i + n])\n",
    "    chunk.append(test_df[' ms_accelerometer_y'][i : i + n])\n",
    "    chunk.append(test_df[' ms_accelerometer_z'][i : i + n])\n",
    "    \n",
    "    count = collections.Counter(test_df['outcome'][i : i + n])\n",
    "    num_fall = count[1]\n",
    "    \n",
    "    if num_fall >= THRESHOLD:\n",
    "        y_test_fall.append(1)\n",
    "        X_test_fall.append(chunk)\n",
    "    else:\n",
    "        y_test_notfall.append(0)\n",
    "        X_test_notfall.append(chunk)"
   ]
  },
  {
   "cell_type": "code",
   "execution_count": 9,
   "id": "eba88c1a-388f-4bb3-9d60-54c28c34cca1",
   "metadata": {},
   "outputs": [
    {
     "name": "stdout",
     "output_type": "stream",
     "text": [
      "number of train data fall 2912\n",
      "number of train data not fall 31068\n"
     ]
    }
   ],
   "source": [
    "len_train_notfall = len(X_train_notfall)\n",
    "len_train_fall = len(X_train_fall)\n",
    "print('number of train data fall', len_train_fall)\n",
    "print('number of train data not fall', len_train_notfall)"
   ]
  },
  {
   "cell_type": "code",
   "execution_count": 10,
   "id": "e43bd7c4-6759-4311-817b-17b098ec55ec",
   "metadata": {},
   "outputs": [
    {
     "name": "stdout",
     "output_type": "stream",
     "text": [
      "number of test data fall 1456\n",
      "number of test data not fall 15733\n"
     ]
    }
   ],
   "source": [
    "len_test_notfall = len(X_test_notfall)\n",
    "len_test_fall = len(X_test_fall)\n",
    "print('number of test data fall', len_test_fall)\n",
    "print('number of test data not fall', len_test_notfall)"
   ]
  },
  {
   "cell_type": "markdown",
   "id": "8d96a0e0-0472-42ab-900b-877ecffdd6f8",
   "metadata": {},
   "source": [
    "### save dictionary"
   ]
  },
  {
   "cell_type": "code",
   "execution_count": 11,
   "id": "73493776-4d94-47aa-aa9d-9c8f5afc3938",
   "metadata": {},
   "outputs": [
    {
     "data": {
      "text/plain": [
       "2912"
      ]
     },
     "execution_count": 11,
     "metadata": {},
     "output_type": "execute_result"
    }
   ],
   "source": [
    "dic_train_fall = generate_dic(X_train_fall,y_train_fall,\"dic_train_fall\")\n",
    "len(dic_train_fall)"
   ]
  },
  {
   "cell_type": "code",
   "execution_count": 12,
   "id": "2bcec649-afda-4fb2-851c-4c7108683812",
   "metadata": {},
   "outputs": [],
   "source": [
    "# dic_train_fall[0]"
   ]
  },
  {
   "cell_type": "code",
   "execution_count": 13,
   "id": "aa4725f9-75df-45ae-be19-c31ef44ce1b8",
   "metadata": {},
   "outputs": [
    {
     "data": {
      "text/plain": [
       "31068"
      ]
     },
     "execution_count": 13,
     "metadata": {},
     "output_type": "execute_result"
    }
   ],
   "source": [
    "dic_train_notfall = generate_dic(X_train_notfall,y_train_notfall)\n",
    "len(dic_train_notfall)"
   ]
  },
  {
   "cell_type": "code",
   "execution_count": 14,
   "id": "be36bbad-334d-4600-b770-dad6caf0977e",
   "metadata": {},
   "outputs": [],
   "source": [
    "# dic_train_notfall[0]"
   ]
  },
  {
   "cell_type": "code",
   "execution_count": 15,
   "id": "7d08f86b-76f8-414e-88c4-510d47d0b2a2",
   "metadata": {},
   "outputs": [
    {
     "data": {
      "text/plain": [
       "1456"
      ]
     },
     "execution_count": 15,
     "metadata": {},
     "output_type": "execute_result"
    }
   ],
   "source": [
    "dic_test_fall = generate_dic(X_test_fall,y_test_fall,\"dic_test_fall\")\n",
    "len(dic_test_fall)"
   ]
  },
  {
   "cell_type": "code",
   "execution_count": 16,
   "id": "eca4a651-68c6-4d12-ab61-15d557f5191f",
   "metadata": {},
   "outputs": [],
   "source": [
    "# dic_test_fall[0]"
   ]
  },
  {
   "cell_type": "code",
   "execution_count": 17,
   "id": "565309e6-79f1-43ac-9788-dc6404b480be",
   "metadata": {},
   "outputs": [
    {
     "data": {
      "text/plain": [
       "15733"
      ]
     },
     "execution_count": 17,
     "metadata": {},
     "output_type": "execute_result"
    }
   ],
   "source": [
    "dic_test_notfall = generate_dic(X_test_notfall,y_test_notfall)\n",
    "len(dic_test_notfall)"
   ]
  },
  {
   "cell_type": "code",
   "execution_count": 18,
   "id": "35a3490a-b01e-496c-b917-d9016e9baecd",
   "metadata": {},
   "outputs": [],
   "source": [
    "# dic_test_notfall[0]"
   ]
  },
  {
   "cell_type": "code",
   "execution_count": 19,
   "id": "2d3f1f80-cde4-4c44-bcbc-83134bf45389",
   "metadata": {},
   "outputs": [
    {
     "data": {
      "text/plain": [
       "2912"
      ]
     },
     "execution_count": 19,
     "metadata": {},
     "output_type": "execute_result"
    }
   ],
   "source": [
    "dic_train_notfall_random = select_random_sample(dic_train_notfall,len_train_fall,\"dic_train_notfall_random\")\n",
    "len(dic_train_notfall_random)"
   ]
  },
  {
   "cell_type": "code",
   "execution_count": 20,
   "id": "e0655cd9-ee77-4b1c-a022-53b79bcfb77f",
   "metadata": {},
   "outputs": [],
   "source": [
    "# dic_train_notfall_random[list(dic_train_notfall_random.keys())[0]]"
   ]
  },
  {
   "cell_type": "code",
   "execution_count": 21,
   "id": "136764c7-d480-4890-8ed1-d5e732aa3776",
   "metadata": {},
   "outputs": [
    {
     "data": {
      "text/plain": [
       "1456"
      ]
     },
     "execution_count": 21,
     "metadata": {},
     "output_type": "execute_result"
    }
   ],
   "source": [
    "dic_test_notfall_random = select_random_sample(dic_test_notfall,len_test_fall,\"dic_test_notfall_random\")\n",
    "len(dic_test_notfall_random)"
   ]
  },
  {
   "cell_type": "code",
   "execution_count": 22,
   "id": "e8c61275-bd01-494a-a3d6-9c2061e07b12",
   "metadata": {},
   "outputs": [],
   "source": [
    "# dic_test_notfall_random[list(dic_test_notfall_random.keys())[0]]"
   ]
  },
  {
   "cell_type": "markdown",
   "id": "3cbbe11d-5a46-45af-ab12-61e81b56c561",
   "metadata": {},
   "source": [
    "### load dictionary"
   ]
  },
  {
   "cell_type": "code",
   "execution_count": 23,
   "id": "54d1be06-85bf-499b-ac8d-ece74e70b2dc",
   "metadata": {},
   "outputs": [
    {
     "data": {
      "text/plain": [
       "2912"
      ]
     },
     "execution_count": 23,
     "metadata": {},
     "output_type": "execute_result"
    }
   ],
   "source": [
    "data_train_notfall = load_dic(\"dic_train_notfall_random\")\n",
    "len(data_train_notfall)"
   ]
  },
  {
   "cell_type": "code",
   "execution_count": 24,
   "id": "5df212d1-f916-46cb-8274-d16d40227f7f",
   "metadata": {},
   "outputs": [],
   "source": [
    "# data_train_notfall[list(data_train_notfall.keys())[0]]"
   ]
  },
  {
   "cell_type": "code",
   "execution_count": 25,
   "id": "0636b8e4-f3c2-4836-8236-212a7c5d7e6c",
   "metadata": {},
   "outputs": [
    {
     "data": {
      "text/plain": [
       "2912"
      ]
     },
     "execution_count": 25,
     "metadata": {},
     "output_type": "execute_result"
    }
   ],
   "source": [
    "data_train_fall = load_dic(\"dic_train_fall\")\n",
    "len(data_train_fall)"
   ]
  },
  {
   "cell_type": "code",
   "execution_count": 26,
   "id": "8dc42ac6-e429-4931-b274-9b1e65f73547",
   "metadata": {},
   "outputs": [],
   "source": [
    "# data_train_fall[0]"
   ]
  },
  {
   "cell_type": "code",
   "execution_count": 27,
   "id": "64ff74e7-7424-4aaf-9079-d878aaff3848",
   "metadata": {},
   "outputs": [
    {
     "data": {
      "text/plain": [
       "1456"
      ]
     },
     "execution_count": 27,
     "metadata": {},
     "output_type": "execute_result"
    }
   ],
   "source": [
    "data_test_notfall = load_dic(\"dic_test_notfall_random\")\n",
    "len(data_test_notfall)"
   ]
  },
  {
   "cell_type": "code",
   "execution_count": 28,
   "id": "f2f082b4-d660-45cf-88e5-a4650748dfa8",
   "metadata": {},
   "outputs": [],
   "source": [
    "# data_test_notfall[list(data_test_notfall.keys())[0]]"
   ]
  },
  {
   "cell_type": "code",
   "execution_count": 29,
   "id": "ce5b6005-a7d8-41c0-bf5c-63098d35feef",
   "metadata": {},
   "outputs": [
    {
     "data": {
      "text/plain": [
       "1456"
      ]
     },
     "execution_count": 29,
     "metadata": {},
     "output_type": "execute_result"
    }
   ],
   "source": [
    "data_test_fall = load_dic(\"dic_test_fall\")\n",
    "len(data_test_fall)"
   ]
  },
  {
   "cell_type": "code",
   "execution_count": 30,
   "id": "f6af97fd-864d-4724-a719-2784085f16d3",
   "metadata": {},
   "outputs": [],
   "source": [
    "# data_test_fall[0]"
   ]
  },
  {
   "cell_type": "code",
   "execution_count": null,
   "id": "2497979b-b4fe-4065-a5ba-d394a52d7ec9",
   "metadata": {},
   "outputs": [],
   "source": []
  }
 ],
 "metadata": {
  "kernelspec": {
   "display_name": "Python (torch)",
   "language": "python",
   "name": "pytorch"
  },
  "language_info": {
   "codemirror_mode": {
    "name": "ipython",
    "version": 3
   },
   "file_extension": ".py",
   "mimetype": "text/x-python",
   "name": "python",
   "nbconvert_exporter": "python",
   "pygments_lexer": "ipython3",
   "version": "3.11.9"
  }
 },
 "nbformat": 4,
 "nbformat_minor": 5
}
