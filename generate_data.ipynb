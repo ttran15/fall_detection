{
 "cells": [
  {
   "cell_type": "code",
   "execution_count": 1,
   "id": "1bca1365-5b8e-4f9b-bf4d-9c91c2d1bbe8",
   "metadata": {},
   "outputs": [],
   "source": [
    "import numpy as np\n",
    "import pandas as pd\n",
    "import tqdm\n",
    "import collections \n",
    "import time\n",
    "import pickle\n",
    "import random"
   ]
  },
  {
   "cell_type": "code",
   "execution_count": 2,
   "id": "cebbd8a1-17e6-404d-baa8-7e43e6bcc25a",
   "metadata": {},
   "outputs": [],
   "source": [
    "# CONSTANT\n",
    "WINDOW_SIZE = 40\n",
    "THRESHOLD = 25"
   ]
  },
  {
   "cell_type": "code",
   "execution_count": 3,
   "id": "b0620da2-8d54-41bd-b538-2cbf53770e6e",
   "metadata": {},
   "outputs": [],
   "source": [
    "def select_random_sample(dic,number,file_name=None):\n",
    "    random.seed(42)\n",
    "    random_list = random.sample(list(dic.keys()),number)\n",
    "    dic_random = {i: dic[i] for i in random_list}\n",
    "    if (file_name != None):\n",
    "        with open('data/' + file_name + '.pkl', 'wb') as file:\n",
    "            pickle.dump(dic_random, file)\n",
    "    return dic_random"
   ]
  },
  {
   "cell_type": "code",
   "execution_count": 4,
   "id": "e6dd4577-6bc6-4b72-b964-61848c42d3ea",
   "metadata": {},
   "outputs": [],
   "source": [
    "def load_dic(file_name):\n",
    "    with open('data/' + file_name + '.pkl', 'rb') as file:\n",
    "        data = pickle.load(file)\n",
    "    return data"
   ]
  },
  {
   "cell_type": "code",
   "execution_count": 5,
   "id": "a78b6c01-4725-4347-9504-1fb07ef61391",
   "metadata": {},
   "outputs": [],
   "source": [
    "def generate_dic(ls_X,ls_y):\n",
    "    dic = {}\n",
    "    for i in range(0,len(ls_X)):\n",
    "        # X\n",
    "        df_chunk = pd.DataFrame(ls_X[i]).T\n",
    "        # y\n",
    "        label_chunk = ls_y[i]\n",
    "        dic[i] = (df_chunk,label_chunk)\n",
    "    return dic"
   ]
  },
  {
   "cell_type": "code",
   "execution_count": 6,
   "id": "1b0763fe-15f5-42a9-8d20-8d18c6d601b7",
   "metadata": {},
   "outputs": [],
   "source": [
    "def convert_to_np_array(data,file_name=None):\n",
    "    X_array = []\n",
    "    y_array = []\n",
    "    for i in data.keys():\n",
    "        temp_x = data[i][0].to_numpy()\n",
    "        X_array.append(temp_x)\n",
    "        temp_y = data[i][1]\n",
    "        y_array.append(temp_y)\n",
    "    X_array = np.array(X_array)\n",
    "    y_array = np.array(y_array)\n",
    "    if (file_name != None):\n",
    "        np.save('data/X_' + file_name + '_array.npy', X_array)\n",
    "        np.save('data/y_' + file_name + '_array.npy', y_array)\n",
    "    return X_array,y_array"
   ]
  },
  {
   "cell_type": "code",
   "execution_count": 7,
   "id": "81e29bbd-a9e4-4288-ae9f-c6959212ade2",
   "metadata": {},
   "outputs": [],
   "source": [
    "train_df = pd.read_csv('data/raw182_Training_Relabeled_Auto_25.csv')\n",
    "test_df = pd.read_csv('data/raw91_Testing_Relabeled_Auto_25.csv')"
   ]
  },
  {
   "cell_type": "markdown",
   "id": "4fc90bc5-be5a-4515-8c3e-58b21d765981",
   "metadata": {},
   "source": [
    "### data preprocessing\n",
    "\n",
    "- sliding window = 40\n",
    "- if there is equal or more than 25 fall -> label of chunk is fall"
   ]
  },
  {
   "cell_type": "code",
   "execution_count": 8,
   "id": "f17c028b-bb80-48ea-8a39-235b627de382",
   "metadata": {},
   "outputs": [
    {
     "name": "stderr",
     "output_type": "stream",
     "text": [
      "100%|██████████████████████████████████| 33980/33980 [00:01<00:00, 20778.47it/s]\n"
     ]
    }
   ],
   "source": [
    "n = 40\n",
    "X_train_notfall, X_train_fall, y_train_notfall, y_train_fall = list(), list(), list(), list()\n",
    "for i in tqdm.tqdm(range(0, len(train_df) - WINDOW_SIZE)):\n",
    "    chunk = list()\n",
    "    \n",
    "    chunk.append(train_df[' ms_accelerometer_x'][i : i + n])\n",
    "    chunk.append(train_df[' ms_accelerometer_y'][i : i + n])\n",
    "    chunk.append(train_df[' ms_accelerometer_z'][i : i + n])\n",
    "    \n",
    "    count = collections.Counter(train_df['outcome'][i : i + n])\n",
    "    num_fall = count[1]\n",
    "    \n",
    "    if num_fall >= THRESHOLD:\n",
    "        y_train_fall.append(1)\n",
    "        X_train_fall.append(chunk)\n",
    "    else:\n",
    "        y_train_notfall.append(0)\n",
    "        X_train_notfall.append(chunk)"
   ]
  },
  {
   "cell_type": "code",
   "execution_count": 9,
   "id": "b5d0b9a5-00e3-4bfd-9dd4-3ca875967800",
   "metadata": {},
   "outputs": [
    {
     "name": "stderr",
     "output_type": "stream",
     "text": [
      "100%|██████████████████████████████████| 17189/17189 [00:00<00:00, 19552.15it/s]\n"
     ]
    }
   ],
   "source": [
    "n = 40\n",
    "X_test_notfall, X_test_fall, y_test_notfall, y_test_fall = list(), list(), list(), list()\n",
    "for i in tqdm.tqdm(range(0, len(test_df) - WINDOW_SIZE)):\n",
    "    chunk = list()\n",
    "    \n",
    "    chunk.append(test_df[' ms_accelerometer_x'][i : i + n])\n",
    "    chunk.append(test_df[' ms_accelerometer_y'][i : i + n])\n",
    "    chunk.append(test_df[' ms_accelerometer_z'][i : i + n])\n",
    "    \n",
    "    count = collections.Counter(test_df['outcome'][i : i + n])\n",
    "    num_fall = count[1]\n",
    "    \n",
    "    if num_fall >= THRESHOLD:\n",
    "        y_test_fall.append(1)\n",
    "        X_test_fall.append(chunk)\n",
    "    else:\n",
    "        y_test_notfall.append(0)\n",
    "        X_test_notfall.append(chunk)"
   ]
  },
  {
   "cell_type": "code",
   "execution_count": 10,
   "id": "eba88c1a-388f-4bb3-9d60-54c28c34cca1",
   "metadata": {},
   "outputs": [
    {
     "name": "stdout",
     "output_type": "stream",
     "text": [
      "number of train data fall 2912\n",
      "number of train data not fall 31068\n"
     ]
    }
   ],
   "source": [
    "len_train_notfall = len(X_train_notfall)\n",
    "len_train_fall = len(X_train_fall)\n",
    "print('number of train data fall', len_train_fall)\n",
    "print('number of train data not fall', len_train_notfall)"
   ]
  },
  {
   "cell_type": "code",
   "execution_count": 11,
   "id": "e43bd7c4-6759-4311-817b-17b098ec55ec",
   "metadata": {},
   "outputs": [
    {
     "name": "stdout",
     "output_type": "stream",
     "text": [
      "number of test data fall 1456\n",
      "number of test data not fall 15733\n"
     ]
    }
   ],
   "source": [
    "len_test_notfall = len(X_test_notfall)\n",
    "len_test_fall = len(X_test_fall)\n",
    "print('number of test data fall', len_test_fall)\n",
    "print('number of test data not fall', len_test_notfall)"
   ]
  },
  {
   "cell_type": "markdown",
   "id": "8d96a0e0-0472-42ab-900b-877ecffdd6f8",
   "metadata": {},
   "source": [
    "### select random"
   ]
  },
  {
   "cell_type": "code",
   "execution_count": 12,
   "id": "73493776-4d94-47aa-aa9d-9c8f5afc3938",
   "metadata": {},
   "outputs": [
    {
     "data": {
      "text/plain": [
       "2912"
      ]
     },
     "execution_count": 12,
     "metadata": {},
     "output_type": "execute_result"
    }
   ],
   "source": [
    "dic_train_fall = generate_dic(X_train_fall,y_train_fall)\n",
    "len(dic_train_fall)"
   ]
  },
  {
   "cell_type": "code",
   "execution_count": 13,
   "id": "2bcec649-afda-4fb2-851c-4c7108683812",
   "metadata": {},
   "outputs": [],
   "source": [
    "# dic_train_fall[0]"
   ]
  },
  {
   "cell_type": "code",
   "execution_count": 14,
   "id": "aa4725f9-75df-45ae-be19-c31ef44ce1b8",
   "metadata": {},
   "outputs": [
    {
     "data": {
      "text/plain": [
       "31068"
      ]
     },
     "execution_count": 14,
     "metadata": {},
     "output_type": "execute_result"
    }
   ],
   "source": [
    "dic_train_notfall = generate_dic(X_train_notfall,y_train_notfall)\n",
    "len(dic_train_notfall)"
   ]
  },
  {
   "cell_type": "code",
   "execution_count": 15,
   "id": "be36bbad-334d-4600-b770-dad6caf0977e",
   "metadata": {},
   "outputs": [],
   "source": [
    "# dic_train_notfall[0]"
   ]
  },
  {
   "cell_type": "code",
   "execution_count": 16,
   "id": "7d08f86b-76f8-414e-88c4-510d47d0b2a2",
   "metadata": {},
   "outputs": [
    {
     "data": {
      "text/plain": [
       "1456"
      ]
     },
     "execution_count": 16,
     "metadata": {},
     "output_type": "execute_result"
    }
   ],
   "source": [
    "dic_test_fall = generate_dic(X_test_fall,y_test_fall)\n",
    "len(dic_test_fall)"
   ]
  },
  {
   "cell_type": "code",
   "execution_count": 17,
   "id": "eca4a651-68c6-4d12-ab61-15d557f5191f",
   "metadata": {},
   "outputs": [],
   "source": [
    "# dic_test_fall[0]"
   ]
  },
  {
   "cell_type": "code",
   "execution_count": 18,
   "id": "565309e6-79f1-43ac-9788-dc6404b480be",
   "metadata": {},
   "outputs": [
    {
     "data": {
      "text/plain": [
       "15733"
      ]
     },
     "execution_count": 18,
     "metadata": {},
     "output_type": "execute_result"
    }
   ],
   "source": [
    "dic_test_notfall = generate_dic(X_test_notfall,y_test_notfall)\n",
    "len(dic_test_notfall)"
   ]
  },
  {
   "cell_type": "code",
   "execution_count": 19,
   "id": "35a3490a-b01e-496c-b917-d9016e9baecd",
   "metadata": {},
   "outputs": [],
   "source": [
    "# dic_test_notfall[0]"
   ]
  },
  {
   "cell_type": "code",
   "execution_count": 20,
   "id": "2d3f1f80-cde4-4c44-bcbc-83134bf45389",
   "metadata": {},
   "outputs": [
    {
     "data": {
      "text/plain": [
       "2912"
      ]
     },
     "execution_count": 20,
     "metadata": {},
     "output_type": "execute_result"
    }
   ],
   "source": [
    "dic_train_notfall_random = select_random_sample(dic_train_notfall,len_train_fall)\n",
    "len(dic_train_notfall_random)"
   ]
  },
  {
   "cell_type": "code",
   "execution_count": 21,
   "id": "e0655cd9-ee77-4b1c-a022-53b79bcfb77f",
   "metadata": {},
   "outputs": [],
   "source": [
    "# dic_train_notfall_random[list(dic_train_notfall_random.keys())[0]]"
   ]
  },
  {
   "cell_type": "code",
   "execution_count": 22,
   "id": "136764c7-d480-4890-8ed1-d5e732aa3776",
   "metadata": {},
   "outputs": [
    {
     "data": {
      "text/plain": [
       "1456"
      ]
     },
     "execution_count": 22,
     "metadata": {},
     "output_type": "execute_result"
    }
   ],
   "source": [
    "dic_test_notfall_random = select_random_sample(dic_test_notfall,len_test_fall)\n",
    "len(dic_test_notfall_random)"
   ]
  },
  {
   "cell_type": "code",
   "execution_count": 23,
   "id": "e8c61275-bd01-494a-a3d6-9c2061e07b12",
   "metadata": {},
   "outputs": [],
   "source": [
    "# dic_test_notfall_random[list(dic_test_notfall_random.keys())[0]]"
   ]
  },
  {
   "cell_type": "markdown",
   "id": "e60e74e3-19ce-4d66-b5e6-825038573f0e",
   "metadata": {},
   "source": [
    "### create numpy array"
   ]
  },
  {
   "cell_type": "code",
   "execution_count": 24,
   "id": "b3f61171-4da8-439a-a156-b86815f45c54",
   "metadata": {},
   "outputs": [],
   "source": [
    "X_train_fall_array,y_train_fall_array = convert_to_np_array(dic_train_fall,\"train_fall\")"
   ]
  },
  {
   "cell_type": "code",
   "execution_count": 25,
   "id": "4bbcc18f-6a3a-42fc-962b-0c82fb8f3e6a",
   "metadata": {},
   "outputs": [],
   "source": [
    "X_train_notfall_array, y_train_notfall_array = convert_to_np_array(dic_train_notfall_random,\"train_notfall\")"
   ]
  },
  {
   "cell_type": "code",
   "execution_count": 26,
   "id": "7b227f8b-e88b-4d8d-af13-d38acb854de5",
   "metadata": {},
   "outputs": [],
   "source": [
    "X_test_fall_array, y_test_fall_array = convert_to_np_array(dic_test_fall,\"test_fall\")"
   ]
  },
  {
   "cell_type": "code",
   "execution_count": 27,
   "id": "02ec48d2-4341-4be3-8c9b-db26a412e59b",
   "metadata": {},
   "outputs": [],
   "source": [
    "X_test_notfall_array, y_test_notfall_array = convert_to_np_array(dic_test_notfall_random,\"test_notfall\")"
   ]
  },
  {
   "cell_type": "markdown",
   "id": "3cbbe11d-5a46-45af-ab12-61e81b56c561",
   "metadata": {},
   "source": [
    "### load numpy array"
   ]
  },
  {
   "cell_type": "code",
   "execution_count": 28,
   "id": "2497979b-b4fe-4065-a5ba-d394a52d7ec9",
   "metadata": {},
   "outputs": [],
   "source": [
    "def load_np_array(file_name):\n",
    "    X_array = np.load('data/X_' + file_name + '_array.npy')\n",
    "    y_array = np.load('data/y_' + file_name + '_array.npy')\n",
    "    return X_array, y_array"
   ]
  },
  {
   "cell_type": "code",
   "execution_count": 29,
   "id": "445acfed-4af7-4553-9581-bbda293039df",
   "metadata": {},
   "outputs": [],
   "source": [
    "X_train_fall, y_train_fall = load_np_array(\"train_fall\")"
   ]
  },
  {
   "cell_type": "code",
   "execution_count": 30,
   "id": "a8159c2a-d3c4-4fcc-9d79-5af128a8a7d0",
   "metadata": {},
   "outputs": [
    {
     "name": "stdout",
     "output_type": "stream",
     "text": [
      "(2912, 40, 3)\n",
      "(2912,)\n"
     ]
    }
   ],
   "source": [
    "print(X_train_fall.shape)\n",
    "print(y_train_fall.shape)"
   ]
  },
  {
   "cell_type": "code",
   "execution_count": 31,
   "id": "f38dafb2-ef0c-4fba-b44d-464bf4059a8a",
   "metadata": {},
   "outputs": [],
   "source": [
    "X_train_notfall, y_train_notfall = load_np_array(\"train_notfall\")"
   ]
  },
  {
   "cell_type": "code",
   "execution_count": 32,
   "id": "5283fce6-e2f0-4d34-a4db-5ea5e248bcb5",
   "metadata": {},
   "outputs": [
    {
     "name": "stdout",
     "output_type": "stream",
     "text": [
      "(2912, 40, 3)\n",
      "(2912,)\n"
     ]
    }
   ],
   "source": [
    "print(X_train_notfall.shape)\n",
    "print(y_train_notfall.shape)"
   ]
  },
  {
   "cell_type": "code",
   "execution_count": 33,
   "id": "256a6ef8-f8d5-4d4b-b3df-1b02c05d9227",
   "metadata": {},
   "outputs": [],
   "source": [
    "X_test_fall, y_test_fall = load_np_array(\"test_fall\")"
   ]
  },
  {
   "cell_type": "code",
   "execution_count": 34,
   "id": "7ce685c6-b970-4523-a7e1-2bb28f91a5b3",
   "metadata": {},
   "outputs": [
    {
     "name": "stdout",
     "output_type": "stream",
     "text": [
      "(1456, 40, 3)\n",
      "(1456,)\n"
     ]
    }
   ],
   "source": [
    "print(X_test_fall.shape)\n",
    "print(y_test_fall.shape)"
   ]
  },
  {
   "cell_type": "code",
   "execution_count": 35,
   "id": "fb9cd6c2-37c9-436e-9d8d-043884dc706d",
   "metadata": {},
   "outputs": [],
   "source": [
    "X_test_notfall, y_test_notfall = load_np_array(\"test_fall\")"
   ]
  },
  {
   "cell_type": "code",
   "execution_count": 36,
   "id": "fbb1443b-e1b3-4731-9c05-1f699f465d20",
   "metadata": {},
   "outputs": [
    {
     "name": "stdout",
     "output_type": "stream",
     "text": [
      "(1456, 40, 3)\n",
      "(1456,)\n"
     ]
    }
   ],
   "source": [
    "print(X_test_notfall.shape)\n",
    "print(y_test_notfall.shape)"
   ]
  },
  {
   "cell_type": "code",
   "execution_count": null,
   "id": "b3feca0a-0ce2-4c43-bf98-a542a108ab32",
   "metadata": {},
   "outputs": [],
   "source": []
  }
 ],
 "metadata": {
  "kernelspec": {
   "display_name": "Python (torch)",
   "language": "python",
   "name": "pytorch"
  },
  "language_info": {
   "codemirror_mode": {
    "name": "ipython",
    "version": 3
   },
   "file_extension": ".py",
   "mimetype": "text/x-python",
   "name": "python",
   "nbconvert_exporter": "python",
   "pygments_lexer": "ipython3",
   "version": "3.11.9"
  }
 },
 "nbformat": 4,
 "nbformat_minor": 5
}
