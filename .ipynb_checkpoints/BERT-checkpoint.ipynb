{
 "cells": [
  {
   "cell_type": "code",
   "execution_count": 1,
   "metadata": {
    "colab": {
     "base_uri": "https://localhost:8080/"
    },
    "id": "cn-j_4z_k1j_",
    "outputId": "10664f50-7c7b-4aa2-c7af-97387cc71ca7"
   },
   "outputs": [],
   "source": [
    "import numpy as np\n",
    "import random\n",
    "import matplotlib.pyplot as plt\n",
    "import seaborn as sns\n",
    "from sklearn.model_selection import train_test_split\n",
    "from sklearn.metrics import accuracy_score, precision_score, recall_score, f1_score\n",
    "from sklearn.metrics import roc_auc_score, classification_report, confusion_matrix, roc_curve, auc\n",
    "import torch\n",
    "from torch.utils.data import DataLoader, Dataset\n",
    "from transformers import DistilBertTokenizer, DistilBertForSequenceClassification\n",
    "from transformers import Trainer, TrainingArguments, EarlyStoppingCallback"
   ]
  },
  {
   "cell_type": "code",
   "execution_count": 2,
   "metadata": {},
   "outputs": [],
   "source": [
    "# Load datasets\n",
    "def load_np_array(file_name):\n",
    "    X_array = np.load('data/X_' + file_name + '_array.npy')\n",
    "    y_array = np.load('data/y_' + file_name + '_array.npy')\n",
    "    return X_array, y_array\n",
    "\n",
    "# Convert numerical data to strings\n",
    "def convert_to_string(data):\n",
    "    return [\" \".join(map(str, seq.flatten())) for seq in data]\n",
    "\n",
    "# Define the compute_metrics function to calculate accuracy\n",
    "def compute_metrics(p):\n",
    "    pred, labels = p\n",
    "    pred = np.argmax(pred, axis=1)\n",
    "    accuracy = accuracy_score(labels, pred)\n",
    "    return {\"eval_accuracy\": accuracy}\n",
    "\n",
    "def set_seeds(seed):\n",
    "    np.random.seed(seed)\n",
    "    random.seed(seed)\n",
    "    torch.manual_seed(seed)\n",
    "\n",
    "# Call this function before creating and training your model\n",
    "set_seeds(42)"
   ]
  },
  {
   "cell_type": "code",
   "execution_count": 3,
   "metadata": {},
   "outputs": [],
   "source": [
    "# CONSTANT\n",
    "LEARNING_RATE_VAL = 0.0001\n",
    "BATCH_SIZE_VAL = 32\n",
    "VALIDATION_SPLIT_VAL = 0.2\n",
    "EPOCH_NUMBER = 50"
   ]
  },
  {
   "cell_type": "code",
   "execution_count": 4,
   "metadata": {},
   "outputs": [
    {
     "name": "stdout",
     "output_type": "stream",
     "text": [
      "Combined training data shape: (5824, 40, 3) (5824,)\n",
      "Combined testing data shape: (2912, 40, 3) (2912,)\n"
     ]
    }
   ],
   "source": [
    "X_train_fall, y_train_fall = load_np_array(\"train_fall\")\n",
    "X_train_notfall, y_train_notfall = load_np_array(\"train_notfall\")\n",
    "X_test_fall, y_test_fall = load_np_array(\"test_fall\")\n",
    "X_test_notfall, y_test_notfall = load_np_array(\"test_notfall\")\n",
    "\n",
    "# Combine fall and notfall datasets\n",
    "X_train = np.concatenate((X_train_fall, X_train_notfall), axis=0)\n",
    "y_train = np.concatenate((y_train_fall, y_train_notfall), axis=0)\n",
    "X_test = np.concatenate((X_test_fall, X_test_notfall), axis=0)\n",
    "y_test = np.concatenate((y_test_fall, y_test_notfall), axis=0)\n",
    "\n",
    "print(\"Combined training data shape:\", X_train.shape, y_train.shape)\n",
    "print(\"Combined testing data shape:\", X_test.shape, y_test.shape)"
   ]
  },
  {
   "cell_type": "code",
   "execution_count": 5,
   "metadata": {},
   "outputs": [
    {
     "name": "stderr",
     "output_type": "stream",
     "text": [
      "Some weights of DistilBertForSequenceClassification were not initialized from the model checkpoint at distilbert-base-uncased and are newly initialized: ['classifier.bias', 'classifier.weight', 'pre_classifier.bias', 'pre_classifier.weight']\n",
      "You should probably TRAIN this model on a down-stream task to be able to use it for predictions and inference.\n"
     ]
    }
   ],
   "source": [
    "# Split train data into train and validation sets\n",
    "X_train_split, X_val, y_train_split, y_val = train_test_split(\n",
    "    X_train, y_train, test_size=VALIDATION_SPLIT_VAL, random_state=42\n",
    ")\n",
    "\n",
    "# Convert numerical data to strings\n",
    "X_train_text_split = convert_to_string(X_train_split)\n",
    "X_val_text = convert_to_string(X_val)\n",
    "X_train_text = convert_to_string(X_train)\n",
    "X_test_text = convert_to_string(X_test)\n",
    "\n",
    "# Tokenizer and Model Initialization\n",
    "model_name = 'distilbert-base-uncased'\n",
    "tokenizer = DistilBertTokenizer.from_pretrained(model_name)\n",
    "model = DistilBertForSequenceClassification.from_pretrained(model_name, num_labels=2)"
   ]
  },
  {
   "cell_type": "code",
   "execution_count": 6,
   "metadata": {
    "id": "re_R0MYDlpkw"
   },
   "outputs": [],
   "source": [
    "# Create Dataset class\n",
    "class FallDetectionDataset(Dataset):\n",
    "    def __init__(self, texts, labels, tokenizer, max_length):\n",
    "        self.texts = texts\n",
    "        self.labels = labels\n",
    "        self.tokenizer = tokenizer\n",
    "        self.max_length = max_length\n",
    "\n",
    "    def __len__(self):\n",
    "        return len(self.texts)\n",
    "\n",
    "    def __getitem__(self, idx):\n",
    "        text = self.texts[idx]\n",
    "        label = self.labels[idx]\n",
    "        encoding = self.tokenizer.encode_plus(\n",
    "            text,\n",
    "            max_length=self.max_length,\n",
    "            padding='max_length',\n",
    "            truncation=True,\n",
    "            return_tensors='pt'\n",
    "        )\n",
    "        return {\n",
    "            'input_ids': encoding['input_ids'].flatten(),\n",
    "            'attention_mask': encoding['attention_mask'].flatten(),\n",
    "            'labels': torch.tensor(label, dtype=torch.long)\n",
    "        }\n",
    "\n",
    "# Create Dataset and DataLoader instances\n",
    "max_length = 128  # Adjust max_length as needed\n",
    "\n",
    "train_dataset_split = FallDetectionDataset(X_train_text_split, y_train_split, tokenizer, max_length)\n",
    "val_dataset = FallDetectionDataset(X_val_text, y_val, tokenizer, max_length)\n",
    "test_dataset = FallDetectionDataset(X_test_text, y_test, tokenizer, max_length)\n",
    "\n",
    "train_loader_split = DataLoader(train_dataset_split, batch_size=BATCH_SIZE_VAL, shuffle=True)\n",
    "val_loader = DataLoader(val_dataset, batch_size=BATCH_SIZE_VAL)\n",
    "test_loader = DataLoader(test_dataset, batch_size=BATCH_SIZE_VAL)"
   ]
  },
  {
   "cell_type": "code",
   "execution_count": 7,
   "metadata": {
    "colab": {
     "base_uri": "https://localhost:8080/"
    },
    "id": "KmZ5kVcClto6",
    "outputId": "39eb5493-b66f-415b-bbd6-8c91649ddd78"
   },
   "outputs": [
    {
     "name": "stderr",
     "output_type": "stream",
     "text": [
      "/opt/miniconda3/envs/torch/lib/python3.11/site-packages/transformers/training_args.py:1525: FutureWarning: `evaluation_strategy` is deprecated and will be removed in version 4.46 of 🤗 Transformers. Use `eval_strategy` instead\n",
      "  warnings.warn(\n"
     ]
    }
   ],
   "source": [
    "# Training Arguments\n",
    "training_args = TrainingArguments(\n",
    "    output_dir='./results',\n",
    "    num_train_epochs=50,  # Number of epochs\n",
    "    per_device_train_batch_size=BATCH_SIZE_VAL,  # Batch size\n",
    "    per_device_eval_batch_size=BATCH_SIZE_VAL,\n",
    "    warmup_steps=100,\n",
    "    weight_decay=0.01,\n",
    "    logging_dir='./logs',\n",
    "    logging_steps=10,\n",
    "    evaluation_strategy='epoch',\n",
    "    save_strategy='epoch',\n",
    "    load_best_model_at_end=True,  # Load best model at the end\n",
    "    gradient_accumulation_steps=2,  # Simulate larger batch size\n",
    "    learning_rate=LEARNING_RATE_VAL,  # Learning rate\n",
    ")\n",
    "\n",
    "# Trainer with EarlyStoppingCallback\n",
    "trainer = Trainer(\n",
    "    model=model,\n",
    "    args=training_args,\n",
    "    train_dataset=train_dataset_split,  # Use split data\n",
    "    eval_dataset=val_dataset,  # Use validation data\n",
    "    tokenizer=tokenizer,\n",
    "    compute_metrics=compute_metrics,\n",
    "    callbacks=[EarlyStoppingCallback(early_stopping_patience=1)]  # Early stopping\n",
    ")"
   ]
  },
  {
   "cell_type": "code",
   "execution_count": 8,
   "metadata": {
    "colab": {
     "base_uri": "https://localhost:8080/",
     "height": 733
    },
    "id": "b0i7bBPdlwep",
    "outputId": "eeafb8ec-e024-4f67-d703-5895baec552b"
   },
   "outputs": [
    {
     "data": {
      "text/html": [
       "\n",
       "    <div>\n",
       "      \n",
       "      <progress value='292' max='3650' style='width:300px; height:20px; vertical-align: middle;'></progress>\n",
       "      [ 292/3650 08:06 < 1:33:58, 0.60 it/s, Epoch 4/50]\n",
       "    </div>\n",
       "    <table border=\"1\" class=\"dataframe\">\n",
       "  <thead>\n",
       " <tr style=\"text-align: left;\">\n",
       "      <th>Epoch</th>\n",
       "      <th>Training Loss</th>\n",
       "      <th>Validation Loss</th>\n",
       "      <th>Accuracy</th>\n",
       "    </tr>\n",
       "  </thead>\n",
       "  <tbody>\n",
       "    <tr>\n",
       "      <td>1</td>\n",
       "      <td>0.567200</td>\n",
       "      <td>0.585737</td>\n",
       "      <td>0.715021</td>\n",
       "    </tr>\n",
       "    <tr>\n",
       "      <td>2</td>\n",
       "      <td>0.575100</td>\n",
       "      <td>0.540995</td>\n",
       "      <td>0.734764</td>\n",
       "    </tr>\n",
       "    <tr>\n",
       "      <td>3</td>\n",
       "      <td>0.470100</td>\n",
       "      <td>0.473432</td>\n",
       "      <td>0.777682</td>\n",
       "    </tr>\n",
       "    <tr>\n",
       "      <td>4</td>\n",
       "      <td>0.417000</td>\n",
       "      <td>0.487888</td>\n",
       "      <td>0.789700</td>\n",
       "    </tr>\n",
       "  </tbody>\n",
       "</table><p>"
      ],
      "text/plain": [
       "<IPython.core.display.HTML object>"
      ]
     },
     "metadata": {},
     "output_type": "display_data"
    },
    {
     "data": {
      "text/html": [],
      "text/plain": [
       "<IPython.core.display.HTML object>"
      ]
     },
     "metadata": {},
     "output_type": "display_data"
    },
    {
     "name": "stdout",
     "output_type": "stream",
     "text": [
      "Sample text: 0.7175293 0.17138672 0.18847658 0.35571292 0.108154304 0.33398438 0.35571292 0.108154304 0.33398438 0.35571292 0.108154304 0.33398438 0.23779297 0.0703125 0.29296875 0.23779297 0.0703125 0.29296875 0.2644043 0.16650392 0.2529297 0.29858398 0.12670898 0.15185548 0.29858398 0.12670898 0.15185548 0.29858398 0.12670898 0.15185548 0.2915039 0.004394531 0.0703125 0.2915039 0.004394531 0.0703125 0.2890625 0.11694337 0.072753906 0.2890625 0.11694337 0.072753906 0.2890625 0.11694337 0.072753906 0.58032227 0.20654297 0.16845703 0.58032227 0.20654297 0.16845703 0.58032227 0.20654297 0.16845703 0.8317871 0.20800781 0.18896484 1.2778322 0.30639648 0.5510254 0.7670899 0.34057617 0.8496094 0.16235352 -0.4787598 0.26538086 0.44921875 -0.7165528 -0.53881836 0.689209 -1.6711427 -0.91284186 0.8618164 0.095947266 -2.5136719 0.8618164 0.095947266 -2.5136719 1.9758302 0.5515137 -2.2919922 4.548828 0.8195801 1.6223145 4.928711 0.5324707 1.5439453 1.4716797 0.45605472 0.47949222 -0.59277344 0.22460938 0.09814453 0.9501954 0.22021484 0.8041992 0.9501954 0.22021484 0.8041992 0.9050293 0.009277344 0.72143555 0.6845703 0.39501953 0.1381836 1.2570801 0.114990234 0.6828614 1.3525392 0.54296875 0.72998047 0.86572266 -0.061523438 0.54418945 0.58154297 0.005371094 0.7531739 0.58154297 -0.13647461 0.5866699\n",
      "Tokenized input_ids: tensor([[  101,  1014,  1012,  6390, 23352, 24594,  2509,  1014,  1012, 27016,\n",
      "         20842,  2581,  2475,  1014,  1012,  6988,  2581, 26187,  2620,  1014,\n",
      "          1012, 26271,  2581, 12521,  2683,  2475,  1014,  1012, 10715, 16068,\n",
      "         23777,  2692,  2549,  1014,  1012, 21211,  2683,  2620, 23777,  2620,\n",
      "          1014,  1012, 26271,  2581, 12521,  2683,  2475,  1014,  1012, 10715,\n",
      "         16068, 23777,  2692,  2549,  1014,  1012, 21211,  2683,  2620, 23777,\n",
      "          2620,  1014,  1012, 26271,  2581, 12521,  2683,  2475,  1014,  1012,\n",
      "         10715, 16068, 23777,  2692,  2549,  1014,  1012, 21211,  2683,  2620,\n",
      "         23777,  2620,  1014,  1012, 23297,  2581,  2683, 24594,  2581,  1014,\n",
      "          1012,  5718,  2692, 21486, 17788,  1014,  1012, 25797,  2683,  2575,\n",
      "          2620, 23352,  1014,  1012, 23297,  2581,  2683, 24594,  2581,  1014,\n",
      "          1012,  5718,  2692, 21486, 17788,  1014,  1012, 25797,  2683,  2575,\n",
      "          2620, 23352,  1014,  1012, 21611, 12740, 23777,   102]])\n",
      "Tokenized attention_mask: tensor([[1, 1, 1, 1, 1, 1, 1, 1, 1, 1, 1, 1, 1, 1, 1, 1, 1, 1, 1, 1, 1, 1, 1, 1,\n",
      "         1, 1, 1, 1, 1, 1, 1, 1, 1, 1, 1, 1, 1, 1, 1, 1, 1, 1, 1, 1, 1, 1, 1, 1,\n",
      "         1, 1, 1, 1, 1, 1, 1, 1, 1, 1, 1, 1, 1, 1, 1, 1, 1, 1, 1, 1, 1, 1, 1, 1,\n",
      "         1, 1, 1, 1, 1, 1, 1, 1, 1, 1, 1, 1, 1, 1, 1, 1, 1, 1, 1, 1, 1, 1, 1, 1,\n",
      "         1, 1, 1, 1, 1, 1, 1, 1, 1, 1, 1, 1, 1, 1, 1, 1, 1, 1, 1, 1, 1, 1, 1, 1,\n",
      "         1, 1, 1, 1, 1, 1, 1, 1]])\n",
      "\n",
      "Example 1\n",
      "Text: 0.7175293 0.17138672 0.18847658 0.35571292 0.108154304 0.33398438 0.35571292 0.108154304 0.33398438 0.35571292 0.108154304 0.33398438 0.23779297 0.0703125 0.29296875 0.23779297 0.0703125 0.29296875 0.2644043 0.16650392 0.2529297 0.29858398 0.12670898 0.15185548 0.29858398 0.12670898 0.15185548 0.29858398 0.12670898 0.15185548 0.2915039 0.004394531 0.0703125 0.2915039 0.004394531 0.0703125 0.2890625 0.11694337 0.072753906 0.2890625 0.11694337 0.072753906 0.2890625 0.11694337 0.072753906 0.58032227 0.20654297 0.16845703 0.58032227 0.20654297 0.16845703 0.58032227 0.20654297 0.16845703 0.8317871 0.20800781 0.18896484 1.2778322 0.30639648 0.5510254 0.7670899 0.34057617 0.8496094 0.16235352 -0.4787598 0.26538086 0.44921875 -0.7165528 -0.53881836 0.689209 -1.6711427 -0.91284186 0.8618164 0.095947266 -2.5136719 0.8618164 0.095947266 -2.5136719 1.9758302 0.5515137 -2.2919922 4.548828 0.8195801 1.6223145 4.928711 0.5324707 1.5439453 1.4716797 0.45605472 0.47949222 -0.59277344 0.22460938 0.09814453 0.9501954 0.22021484 0.8041992 0.9501954 0.22021484 0.8041992 0.9050293 0.009277344 0.72143555 0.6845703 0.39501953 0.1381836 1.2570801 0.114990234 0.6828614 1.3525392 0.54296875 0.72998047 0.86572266 -0.061523438 0.54418945 0.58154297 0.005371094 0.7531739 0.58154297 -0.13647461 0.5866699\n",
      "Label: 1\n",
      "Tokenized input_ids: [101, 1014, 1012, 6390, 23352, 24594, 2509, 1014, 1012, 27016, 20842, 2581, 2475, 1014, 1012, 6988, 2581, 26187, 2620, 1014, 1012, 26271, 2581, 12521, 2683, 2475, 1014, 1012, 10715, 16068, 23777, 2692, 2549, 1014, 1012, 21211, 2683, 2620, 23777, 2620, 1014, 1012, 26271, 2581, 12521, 2683, 2475, 1014, 1012, 10715, 16068, 23777, 2692, 2549, 1014, 1012, 21211, 2683, 2620, 23777, 2620, 1014, 1012, 26271, 2581, 12521, 2683, 2475, 1014, 1012, 10715, 16068, 23777, 2692, 2549, 1014, 1012, 21211, 2683, 2620, 23777, 2620, 1014, 1012, 23297, 2581, 2683, 24594, 2581, 1014, 1012, 5718, 2692, 21486, 17788, 1014, 1012, 25797, 2683, 2575, 2620, 23352, 1014, 1012, 23297, 2581, 2683, 24594, 2581, 1014, 1012, 5718, 2692, 21486, 17788, 1014, 1012, 25797, 2683, 2575, 2620, 23352, 1014, 1012, 21611, 12740, 23777, 102]\n",
      "Tokenized attention_mask: [1, 1, 1, 1, 1, 1, 1, 1, 1, 1, 1, 1, 1, 1, 1, 1, 1, 1, 1, 1, 1, 1, 1, 1, 1, 1, 1, 1, 1, 1, 1, 1, 1, 1, 1, 1, 1, 1, 1, 1, 1, 1, 1, 1, 1, 1, 1, 1, 1, 1, 1, 1, 1, 1, 1, 1, 1, 1, 1, 1, 1, 1, 1, 1, 1, 1, 1, 1, 1, 1, 1, 1, 1, 1, 1, 1, 1, 1, 1, 1, 1, 1, 1, 1, 1, 1, 1, 1, 1, 1, 1, 1, 1, 1, 1, 1, 1, 1, 1, 1, 1, 1, 1, 1, 1, 1, 1, 1, 1, 1, 1, 1, 1, 1, 1, 1, 1, 1, 1, 1, 1, 1, 1, 1, 1, 1, 1, 1]\n",
      "\n",
      "Example 2\n",
      "Text: 0.35571292 0.108154304 0.33398438 0.35571292 0.108154304 0.33398438 0.35571292 0.108154304 0.33398438 0.23779297 0.0703125 0.29296875 0.23779297 0.0703125 0.29296875 0.2644043 0.16650392 0.2529297 0.29858398 0.12670898 0.15185548 0.29858398 0.12670898 0.15185548 0.29858398 0.12670898 0.15185548 0.2915039 0.004394531 0.0703125 0.2915039 0.004394531 0.0703125 0.2890625 0.11694337 0.072753906 0.2890625 0.11694337 0.072753906 0.2890625 0.11694337 0.072753906 0.58032227 0.20654297 0.16845703 0.58032227 0.20654297 0.16845703 0.58032227 0.20654297 0.16845703 0.8317871 0.20800781 0.18896484 1.2778322 0.30639648 0.5510254 0.7670899 0.34057617 0.8496094 0.16235352 -0.4787598 0.26538086 0.44921875 -0.7165528 -0.53881836 0.689209 -1.6711427 -0.91284186 0.8618164 0.095947266 -2.5136719 0.8618164 0.095947266 -2.5136719 1.9758302 0.5515137 -2.2919922 4.548828 0.8195801 1.6223145 4.928711 0.5324707 1.5439453 1.4716797 0.45605472 0.47949222 -0.59277344 0.22460938 0.09814453 0.9501954 0.22021484 0.8041992 0.9501954 0.22021484 0.8041992 0.9050293 0.009277344 0.72143555 0.6845703 0.39501953 0.1381836 1.2570801 0.114990234 0.6828614 1.3525392 0.54296875 0.72998047 0.86572266 -0.061523438 0.54418945 0.58154297 0.005371094 0.7531739 0.58154297 -0.13647461 0.5866699 0.4157715 0.2426758 0.6875\n",
      "Label: 1\n",
      "Tokenized input_ids: [101, 1014, 1012, 26271, 2581, 12521, 2683, 2475, 1014, 1012, 10715, 16068, 23777, 2692, 2549, 1014, 1012, 21211, 2683, 2620, 23777, 2620, 1014, 1012, 26271, 2581, 12521, 2683, 2475, 1014, 1012, 10715, 16068, 23777, 2692, 2549, 1014, 1012, 21211, 2683, 2620, 23777, 2620, 1014, 1012, 26271, 2581, 12521, 2683, 2475, 1014, 1012, 10715, 16068, 23777, 2692, 2549, 1014, 1012, 21211, 2683, 2620, 23777, 2620, 1014, 1012, 23297, 2581, 2683, 24594, 2581, 1014, 1012, 5718, 2692, 21486, 17788, 1014, 1012, 25797, 2683, 2575, 2620, 23352, 1014, 1012, 23297, 2581, 2683, 24594, 2581, 1014, 1012, 5718, 2692, 21486, 17788, 1014, 1012, 25797, 2683, 2575, 2620, 23352, 1014, 1012, 21611, 12740, 23777, 1014, 1012, 27676, 2692, 23499, 2475, 1014, 1012, 22898, 2683, 24594, 2581, 1014, 1012, 27240, 27814, 23499, 2620, 102]\n",
      "Tokenized attention_mask: [1, 1, 1, 1, 1, 1, 1, 1, 1, 1, 1, 1, 1, 1, 1, 1, 1, 1, 1, 1, 1, 1, 1, 1, 1, 1, 1, 1, 1, 1, 1, 1, 1, 1, 1, 1, 1, 1, 1, 1, 1, 1, 1, 1, 1, 1, 1, 1, 1, 1, 1, 1, 1, 1, 1, 1, 1, 1, 1, 1, 1, 1, 1, 1, 1, 1, 1, 1, 1, 1, 1, 1, 1, 1, 1, 1, 1, 1, 1, 1, 1, 1, 1, 1, 1, 1, 1, 1, 1, 1, 1, 1, 1, 1, 1, 1, 1, 1, 1, 1, 1, 1, 1, 1, 1, 1, 1, 1, 1, 1, 1, 1, 1, 1, 1, 1, 1, 1, 1, 1, 1, 1, 1, 1, 1, 1, 1, 1]\n"
     ]
    }
   ],
   "source": [
    "# Train the model\n",
    "trainer.train()\n",
    "\n",
    "# Evaluate the model and print results\n",
    "results = trainer.evaluate()\n",
    "\n",
    "# Inspect the tokenization process\n",
    "sample_text = X_train_text[0]\n",
    "encoding = tokenizer.encode_plus(\n",
    "    sample_text,\n",
    "    max_length=max_length,\n",
    "    padding='max_length',\n",
    "    truncation=True,\n",
    "    return_tensors='pt'\n",
    ")\n",
    "\n",
    "print(\"Sample text:\", sample_text)\n",
    "print(\"Tokenized input_ids:\", encoding['input_ids'])\n",
    "print(\"Tokenized attention_mask:\", encoding['attention_mask'])\n",
    "\n",
    "# Inspect a few examples from the dataset\n",
    "for i in range(2):\n",
    "    print(f\"\\nExample {i+1}\")\n",
    "    print(\"Text:\", X_train_text[i])\n",
    "    print(\"Label:\", y_train[i])\n",
    "    encoding = tokenizer.encode_plus(\n",
    "        X_train_text[i],\n",
    "        max_length=max_length,\n",
    "        padding='max_length',\n",
    "        truncation=True,\n",
    "        return_tensors='pt'\n",
    "    )\n",
    "    print(\"Tokenized input_ids:\", encoding['input_ids'].flatten().tolist())\n",
    "    print(\"Tokenized attention_mask:\", encoding['attention_mask'].flatten().tolist())\n"
   ]
  },
  {
   "cell_type": "code",
   "execution_count": 9,
   "metadata": {
    "colab": {
     "base_uri": "https://localhost:8080/",
     "height": 1000
    },
    "id": "XplN-IJIIBqT",
    "outputId": "35a3b008-59d4-43d6-c5cd-c0be34d87a1d"
   },
   "outputs": [
    {
     "name": "stdout",
     "output_type": "stream",
     "text": [
      "Accuracy: 0.5979\n",
      "Precision: 0.6013\n",
      "Recall: 0.5979\n",
      "F1 Score: 0.5944\n",
      "ROC AUC: 0.6476\n",
      "\n",
      "Classification Report:\n",
      "               precision    recall  f1-score   support\n",
      "\n",
      "    Not Fall     0.5826    0.6902    0.6319      1456\n",
      "        Fall     0.6201    0.5055    0.5569      1456\n",
      "\n",
      "    accuracy                         0.5979      2912\n",
      "   macro avg     0.6013    0.5979    0.5944      2912\n",
      "weighted avg     0.6013    0.5979    0.5944      2912\n",
      "\n"
     ]
    }
   ],
   "source": [
    "# Predict on the test dataset\n",
    "test_predictions = trainer.predict(test_dataset)\n",
    "y_test_pred = np.argmax(test_predictions.predictions, axis=1)\n",
    "\n",
    "# Ensure y_test and y_test_pred are numpy arrays\n",
    "y_test = np.array(y_test)\n",
    "y_test_pred = np.array(y_test_pred)\n",
    "\n",
    "# Calculate evaluation metrics\n",
    "accuracy = accuracy_score(y_test, y_test_pred)\n",
    "precision = precision_score(y_test, y_test_pred, average='weighted')\n",
    "recall = recall_score(y_test, y_test_pred, average='weighted')\n",
    "f1 = f1_score(y_test, y_test_pred, average='weighted')\n",
    "roc_auc = roc_auc_score(y_test, test_predictions.predictions[:, 1], average='weighted')\n",
    "\n",
    "print(f\"Accuracy: {accuracy:.4f}\")\n",
    "print(f\"Precision: {precision:.4f}\")\n",
    "print(f\"Recall: {recall:.4f}\")\n",
    "print(f\"F1 Score: {f1:.4f}\")\n",
    "print(f\"ROC AUC: {roc_auc:.4f}\")\n",
    "\n",
    "# Print classification report\n",
    "report = classification_report(y_test, y_test_pred, target_names=['Not Fall', 'Fall'], digits=4)\n",
    "print(\"\\nClassification Report:\\n\", report)"
   ]
  },
  {
   "cell_type": "code",
   "execution_count": 10,
   "metadata": {},
   "outputs": [
    {
     "data": {
      "image/png": "[encoded data removed]",
      "text/plain": [
       "<Figure size 800x600 with 2 Axes>"
      ]
     },
     "metadata": {},
     "output_type": "display_data"
    }
   ],
   "source": [
    "# Compute confusion matrix\n",
    "cm = confusion_matrix(y_test, y_test_pred, labels=[0, 1])  # Assuming 0 is 'Not Fall' and 1 is 'Fall'\n",
    "\n",
    "# Plot confusion matrix\n",
    "plt.figure(figsize=(8, 6))\n",
    "sns.heatmap(cm, annot=True, fmt='d', cmap='Blues', xticklabels=['Not Fall', 'Fall'], yticklabels=['Not Fall', 'Fall'])\n",
    "plt.xlabel('Predicted labels')\n",
    "plt.ylabel('True labels')\n",
    "plt.title('Confusion Matrix')\n",
    "plt.show()"
   ]
  },
  {
   "cell_type": "code",
   "execution_count": 11,
   "metadata": {},
   "outputs": [
    {
     "data": {
      "image/png": "[encoded data removed]",
      "text/plain": [
       "<Figure size 640x480 with 1 Axes>"
      ]
     },
     "metadata": {},
     "output_type": "display_data"
    }
   ],
   "source": [
    "# Plot ROC Curve for Test Set\n",
    "# Compute ROC curve and ROC area for the test set\n",
    "fpr, tpr, _ = roc_curve(y_test, test_predictions.predictions[:, 1])\n",
    "roc_auc = auc(fpr, tpr)\n",
    "\n",
    "# Plot ROC curve\n",
    "plt.figure()\n",
    "plt.plot(fpr, tpr, color='blue', lw=2, label=f'ROC curve (area = {roc_auc:.4f})')\n",
    "plt.plot([0, 1], [0, 1], color='grey', lw=2, linestyle='--')\n",
    "plt.xlim([0.0, 1.0])\n",
    "plt.ylim([0.0, 1.05])\n",
    "plt.xlabel('False Positive Rate')\n",
    "plt.ylabel('True Positive Rate')\n",
    "plt.title('Receiver Operating Characteristic (ROC) Curve')\n",
    "plt.legend(loc='lower right')\n",
    "plt.grid(True)\n",
    "plt.show()"
   ]
  },
  {
   "cell_type": "code",
   "execution_count": null,
   "metadata": {},
   "outputs": [],
   "source": []
  }
 ],
 "metadata": {
  "colab": {
   "provenance": []
  },
  "kernelspec": {
   "display_name": "Python (torch)",
   "language": "python",
   "name": "pytorch"
  },
  "language_info": {
   "codemirror_mode": {
    "name": "ipython",
    "version": 3
   },
   "file_extension": ".py",
   "mimetype": "text/x-python",
   "name": "python",
   "nbconvert_exporter": "python",
   "pygments_lexer": "ipython3",
   "version": "3.11.9"
  }
 },
 "nbformat": 4,
 "nbformat_minor": 4
}
