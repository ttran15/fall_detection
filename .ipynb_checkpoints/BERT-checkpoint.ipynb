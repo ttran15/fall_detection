{
 "cells": [
  {
   "cell_type": "code",
   "execution_count": 36,
   "metadata": {
    "id": "veN0lOz4QqU5"
   },
   "outputs": [],
   "source": [
    "import numpy as np\n",
    "import pandas as pd\n",
    "from sklearn.metrics import accuracy_score, precision_score, recall_score, f1_score, classification_report, roc_auc_score\n",
    "from sklearn.model_selection import train_test_split\n",
    "from transformers import DistilBertTokenizer, DistilBertForSequenceClassification, Trainer, TrainingArguments\n",
    "from transformers import EarlyStoppingCallback\n",
    "import torch\n",
    "from torch.utils.data import Dataset, DataLoader\n",
    "\n",
    "# Load data\n",
    "def load_np_array(file_name):\n",
    "    X_array = np.load('data/X_' + file_name + '_array.npy')\n",
    "    y_array = np.load('data/y_' + file_name + '_array.npy')\n",
    "    return X_array, y_array\n",
    "\n",
    "X_train_fall, y_train_fall = load_np_array(\"train_fall\")\n",
    "X_train_notfall, y_train_notfall = load_np_array(\"train_notfall\")\n",
    "X_test_fall, y_test_fall = load_np_array(\"test_fall\")\n",
    "X_test_notfall, y_test_notfall = load_np_array(\"test_notfall\")\n",
    "\n",
    "# Combine data\n",
    "X_train = np.concatenate((X_train_fall, X_train_notfall), axis=0)\n",
    "y_train = np.concatenate((y_train_fall, y_train_notfall), axis=0)\n",
    "X_test = np.concatenate((X_test_fall, X_test_notfall), axis=0)\n",
    "y_test = np.concatenate((y_test_fall, y_test_notfall), axis=0)\n",
    "\n",
    "# Shuffle data\n",
    "train_indices = np.arange(X_train.shape[0])\n",
    "np.random.shuffle(train_indices)\n",
    "X_train = X_train[train_indices]\n",
    "y_train = y_train[train_indices]\n",
    "\n",
    "test_indices = np.arange(X_test.shape[0])\n",
    "np.random.shuffle(test_indices)\n",
    "X_test = X_test[test_indices]\n",
    "y_test = y_test[test_indices]\n"
   ]
  },
  {
   "cell_type": "code",
   "execution_count": 44,
   "metadata": {
    "colab": {
     "base_uri": "https://localhost:8080/"
    },
    "id": "bPstBXKnQrKy",
    "outputId": "a6895fe8-474d-44fa-bbd1-b5a09b73f4ae"
   },
   "outputs": [
    {
     "name": "stdout",
     "output_type": "stream",
     "text": [
      "X_train shape: (5824, 40, 3)\n",
      "y_train shape: (5824,)\n",
      "X_test shape: (2912, 40, 3)\n",
      "y_test shape: (2912,)\n",
      "\n",
      "Example X_train_text: ['0.23754884 0.5283203 0.62890625 0.2241211 0.52368164 0.60815436 0.24389648 0.5895996 0.6638184 0.2878418 0.75219727 0.7392579 0.2878418 0.75219727 0.7392579 0.38598633 0.9177246 0.80151373 0.15576172 0.7602539 0.6179199 0.09423829 0.8850098 0.53222656 0.09936524 1.0598145 0.53564453 0.1953125 1.123291 0.57910156 0.2915039 1.0224609 0.5625 0.29516602 0.7844238 0.4685059 0.29516602 0.7844238 0.4685059 0.20703125 0.69458014 0.44702148 0.20703125 0.69458014 0.44702148 0.16699219 0.66259766 0.43017578 0.15576172 0.6555176 0.42016605 0.15576172 0.6555176 0.42016605 0.19458008 0.73657227 0.47656253 0.19458008 0.73657227 0.47656253 0.38671875 1.1005859 0.6367188 0.501709 1.1464844 0.6828614 0.48486328 1.0490723 0.7233887 0.48486328 1.0490723 0.7233887 0.06933594 0.5144043 0.6489258 0.007080079 0.49414065 0.5397949 -0.013916016 0.53393555 0.47485352 -0.013916016 0.53393555 0.47485352 0.10546875 0.5800781 0.54589844 0.40112308 0.6555176 0.6000977 0.5949707 0.7998047 0.61401373 0.58203125 0.68798834 0.62158203 0.5131836 0.58984375 0.51464844 0.47851563 0.63623047 0.45483398 0.5085449 0.5944824 0.44140628 0.5222168 0.6027832 0.4206543 0.6845703 0.7910156 0.44921875 0.7502442 0.68896484 0.3615723 0.75878906 0.6970215 0.3718262 0.61743164 0.58984375 0.33544922', '0.80859375 0.037353516 0.75463873 0.8081055 0.010009766 0.7773438 0.76171875 0.046386722 0.72558594 0.77197266 0.04296875 0.66918945 0.75927734 0.067871094 0.61840826 0.7565918 0.075683594 0.55981445 0.7260743 0.10839844 0.51416016 0.6674805 0.09667969 0.47021484 0.6674805 0.09667969 0.47021484 0.5253906 0.083496094 0.38793948 0.5253906 0.083496094 0.38793948 0.42993164 0.068603516 0.39086917 0.42993164 0.068603516 0.39086917 0.2705078 0.057128906 0.3413086 0.2705078 0.057128906 0.3413086 0.21826172 0.10205078 0.31079102 0.21826172 0.10205078 0.31079102 0.1809082 0.08837891 0.40625003 0.1809082 0.08837891 0.40625003 0.25854492 0.014160157 0.52441406 0.25854492 0.014160157 0.52441406 0.4758301 0.025146484 0.8640137 0.2258301 0.089111336 0.82910156 0.006347657 0.016601563 0.8186035 -0.1538086 -0.07421875 0.6389161 0.84545904 -0.18164063 -0.05737305 0.65844727 0.67211914 1.4931642 0.39990234 1.2214357 5.2180176 1.452881 0.75170904 1.0522461 0.41943362 1.661377 0.84350586 -1.2558595 0.9885254 1.4040527 -1.8823242 0.23291016 0.2590332 -0.81884766 0.5769043 0.64575195 -0.32470703 0.8178711 0.60156256 -0.48291016 0.53515625 0.701416 -0.42602542 0.6123047 0.51416016 -0.3483887 0.62768555 0.5019531 -0.4074707 0.6865235 0.5041504 -0.48291016 0.5654297 0.59033203 -0.5749512 0.6206055 0.57470703']\n",
      "Example y_train: [0 1]\n"
     ]
    }
   ],
   "source": [
    "# Convert numerical data to strings\n",
    "def convert_to_string(data):\n",
    "    return [\" \".join(map(str, seq.flatten())) for seq in data]\n",
    "\n",
    "X_train_text = convert_to_string(X_train)\n",
    "X_test_text = convert_to_string(X_test)\n",
    "\n",
    "# Debugging: Print shapes and example data\n",
    "print(\"X_train shape:\", X_train.shape)\n",
    "print(\"y_train shape:\", y_train.shape)\n",
    "print(\"X_test shape:\", X_test.shape)\n",
    "print(\"y_test shape:\", y_test.shape)\n",
    "print(\"\\nExample X_train_text:\", X_train_text[:2])\n",
    "print(\"Example y_train:\", y_train[:2])\n",
    "\n",
    "# Create Dataset class\n",
    "class FallDetectionDataset(Dataset):\n",
    "    def __init__(self, texts, labels, tokenizer, max_length):\n",
    "        self.texts = texts\n",
    "        self.labels = labels\n",
    "        self.tokenizer = tokenizer\n",
    "        self.max_length = max_length\n",
    "\n",
    "    def __len__(self):\n",
    "        return len(self.texts)\n",
    "\n",
    "    def __getitem__(self, idx):\n",
    "        text = self.texts[idx]\n",
    "        label = self.labels[idx]\n",
    "        encoding = self.tokenizer.encode_plus(\n",
    "            text,\n",
    "            max_length=self.max_length,\n",
    "            padding='max_length',\n",
    "            truncation=True,\n",
    "            return_tensors='pt'\n",
    "        )\n",
    "        return {\n",
    "            'input_ids': encoding['input_ids'].flatten(),\n",
    "            'attention_mask': encoding['attention_mask'].flatten(),\n",
    "            'labels': torch.tensor(label, dtype=torch.long)\n",
    "        }\n"
   ]
  },
  {
   "cell_type": "code",
   "execution_count": 45,
   "metadata": {
    "colab": {
     "base_uri": "https://localhost:8080/"
    },
    "id": "PxDxZ37YQs3d",
    "outputId": "2ae5f1b3-abeb-4e2e-a2ba-2e451fdd1c36"
   },
   "outputs": [
    {
     "name": "stderr",
     "output_type": "stream",
     "text": [
      "Some weights of DistilBertForSequenceClassification were not initialized from the model checkpoint at distilbert-base-uncased and are newly initialized: ['classifier.bias', 'classifier.weight', 'pre_classifier.bias', 'pre_classifier.weight']\n",
      "You should probably TRAIN this model on a down-stream task to be able to use it for predictions and inference.\n"
     ]
    }
   ],
   "source": [
    "# Split train data into train and validation sets\n",
    "X_train_split, X_val, y_train_split, y_val = train_test_split(\n",
    "    X_train, y_train, test_size=0.2, random_state=42  # Adjust random_state for reproducibility\n",
    ")\n",
    "\n",
    "# Convert numerical data to strings\n",
    "X_train_text_split = convert_to_string(X_train_split)\n",
    "X_val_text = convert_to_string(X_val)\n",
    "\n",
    "# Create Dataset class\n",
    "train_dataset_split = FallDetectionDataset(X_train_text_split, y_train_split, tokenizer, max_length)\n",
    "val_dataset = FallDetectionDataset(X_val_text, y_val, tokenizer, max_length)\n",
    "\n",
    "# Create DataLoader\n",
    "train_loader_split = DataLoader(train_dataset_split, batch_size=512, shuffle=True)\n",
    "val_loader = DataLoader(val_dataset, batch_size=512)\n",
    "\n",
    "# Tokenizer and Model\n",
    "model_name = 'distilbert-base-uncased'\n",
    "tokenizer = DistilBertTokenizer.from_pretrained(model_name)\n",
    "model = DistilBertForSequenceClassification.from_pretrained(model_name, num_labels=2)\n",
    "\n",
    "# Create DataLoader\n",
    "train_dataset = FallDetectionDataset(X_train_text, y_train, tokenizer, max_length)\n",
    "test_dataset = FallDetectionDataset(X_test_text, y_test, tokenizer, max_length)\n"
   ]
  },
  {
   "cell_type": "code",
   "execution_count": 46,
   "metadata": {
    "id": "V-UOrr8S8jTQ"
   },
   "outputs": [],
   "source": [
    "import numpy as np\n",
    "from sklearn.metrics import accuracy_score\n",
    "\n",
    "# Define the compute_metrics function to calculate accuracy\n",
    "def compute_metrics(p):\n",
    "    pred, labels = p\n",
    "    pred = np.argmax(pred, axis=1)\n",
    "    accuracy = accuracy_score(labels, pred)\n",
    "    return {\"eval_accuracy\": accuracy}"
   ]
  },
  {
   "cell_type": "code",
   "execution_count": 47,
   "metadata": {
    "colab": {
     "base_uri": "https://localhost:8080/",
     "height": 283
    },
    "id": "m56dtReVQx6o",
    "outputId": "933d9c15-10eb-4ad5-9cbd-a57f4b10c3f5"
   },
   "outputs": [
    {
     "data": {
      "text/html": [
       "\n",
       "    <div>\n",
       "      \n",
       "      <progress value='30' max='250' style='width:300px; height:20px; vertical-align: middle;'></progress>\n",
       "      [ 30/250 1:24:53 < 11:07:01, 0.01 it/s, Epoch 6/50]\n",
       "    </div>\n",
       "    <table border=\"1\" class=\"dataframe\">\n",
       "  <thead>\n",
       " <tr style=\"text-align: left;\">\n",
       "      <th>Epoch</th>\n",
       "      <th>Training Loss</th>\n",
       "      <th>Validation Loss</th>\n",
       "    </tr>\n",
       "  </thead>\n",
       "  <tbody>\n",
       "    <tr>\n",
       "      <td>1</td>\n",
       "      <td>No log</td>\n",
       "      <td>0.690722</td>\n",
       "    </tr>\n",
       "    <tr>\n",
       "      <td>2</td>\n",
       "      <td>0.692400</td>\n",
       "      <td>0.682355</td>\n",
       "    </tr>\n",
       "    <tr>\n",
       "      <td>3</td>\n",
       "      <td>0.692400</td>\n",
       "      <td>0.659148</td>\n",
       "    </tr>\n",
       "    <tr>\n",
       "      <td>4</td>\n",
       "      <td>0.662400</td>\n",
       "      <td>0.627176</td>\n",
       "    </tr>\n",
       "    <tr>\n",
       "      <td>5</td>\n",
       "      <td>0.662400</td>\n",
       "      <td>0.611160</td>\n",
       "    </tr>\n",
       "    <tr>\n",
       "      <td>6</td>\n",
       "      <td>0.613700</td>\n",
       "      <td>0.614604</td>\n",
       "    </tr>\n",
       "  </tbody>\n",
       "</table><p>"
      ],
      "text/plain": [
       "<IPython.core.display.HTML object>"
      ]
     },
     "metadata": {},
     "output_type": "display_data"
    },
    {
     "data": {
      "text/html": [
       "\n",
       "    <div>\n",
       "      \n",
       "      <progress value='3' max='3' style='width:300px; height:20px; vertical-align: middle;'></progress>\n",
       "      [3/3 00:32]\n",
       "    </div>\n",
       "    "
      ],
      "text/plain": [
       "<IPython.core.display.HTML object>"
      ]
     },
     "metadata": {},
     "output_type": "display_data"
    }
   ],
   "source": [
    "# Training Arguments\n",
    "training_args = TrainingArguments(\n",
    "    output_dir='./results',\n",
    "    num_train_epochs=50,  # Updated number of epochs\n",
    "    per_device_train_batch_size=512,  # Updated batch size\n",
    "    per_device_eval_batch_size=512,\n",
    "    warmup_steps=100,\n",
    "    weight_decay=0.01,\n",
    "    logging_dir='./logs',\n",
    "    logging_steps=10,\n",
    "    evaluation_strategy='epoch',\n",
    "    save_strategy='epoch',\n",
    "    load_best_model_at_end=True,  # Load best model at the end\n",
    "    fp16=True,  # Enable mixed precision training\n",
    "    gradient_accumulation_steps=2,  # Simulate larger batch size\n",
    "    learning_rate=1e-4  # Updated learning rate\n",
    ")\n",
    "\n",
    "# Trainer with EarlyStoppingCallback\n",
    "trainer = Trainer(\n",
    "    model=model,\n",
    "    args=training_args,\n",
    "    train_dataset=train_dataset_split,  # Updated to use split data\n",
    "    eval_dataset=val_dataset,  # Updated to use validation data\n",
    "    tokenizer=tokenizer,\n",
    "    callbacks=[EarlyStoppingCallback(early_stopping_patience=1)]  # Updated early stopping\n",
    ")\n",
    "\n",
    "# Train the model\n",
    "trainer.train()\n",
    "\n",
    "# Evaluate the model and print results\n",
    "results = trainer.evaluate()\n"
   ]
  },
  {
   "cell_type": "code",
   "execution_count": 49,
   "metadata": {
    "colab": {
     "base_uri": "https://localhost:8080/",
     "height": 644
    },
    "id": "9kNHBFNCqGnQ",
    "outputId": "5fbda4be-e2aa-4db4-9e50-d66569a3d55e"
   },
   "outputs": [
    {
     "name": "stdout",
     "output_type": "stream",
     "text": [
      "Sample text: 0.23754884 0.5283203 0.62890625 0.2241211 0.52368164 0.60815436 0.24389648 0.5895996 0.6638184 0.2878418 0.75219727 0.7392579 0.2878418 0.75219727 0.7392579 0.38598633 0.9177246 0.80151373 0.15576172 0.7602539 0.6179199 0.09423829 0.8850098 0.53222656 0.09936524 1.0598145 0.53564453 0.1953125 1.123291 0.57910156 0.2915039 1.0224609 0.5625 0.29516602 0.7844238 0.4685059 0.29516602 0.7844238 0.4685059 0.20703125 0.69458014 0.44702148 0.20703125 0.69458014 0.44702148 0.16699219 0.66259766 0.43017578 0.15576172 0.6555176 0.42016605 0.15576172 0.6555176 0.42016605 0.19458008 0.73657227 0.47656253 0.19458008 0.73657227 0.47656253 0.38671875 1.1005859 0.6367188 0.501709 1.1464844 0.6828614 0.48486328 1.0490723 0.7233887 0.48486328 1.0490723 0.7233887 0.06933594 0.5144043 0.6489258 0.007080079 0.49414065 0.5397949 -0.013916016 0.53393555 0.47485352 -0.013916016 0.53393555 0.47485352 0.10546875 0.5800781 0.54589844 0.40112308 0.6555176 0.6000977 0.5949707 0.7998047 0.61401373 0.58203125 0.68798834 0.62158203 0.5131836 0.58984375 0.51464844 0.47851563 0.63623047 0.45483398 0.5085449 0.5944824 0.44140628 0.5222168 0.6027832 0.4206543 0.6845703 0.7910156 0.44921875 0.7502442 0.68896484 0.3615723 0.75878906 0.6970215 0.3718262 0.61743164 0.58984375 0.33544922\n",
      "Tokenized input_ids: tensor([[  101,  1014,  1012, 23297, 27009,  2620,  2620,  2549,  1014,  1012,\n",
      "          4720,  2620, 16703,  2692,  2509,  1014,  1012,  5786,  2620, 21057,\n",
      "          2575, 17788,  1014,  1012, 19711, 12521, 14526,  1014,  1012,  4720,\n",
      "         21619,   102]])\n",
      "Tokenized attention_mask: tensor([[1, 1, 1, 1, 1, 1, 1, 1, 1, 1, 1, 1, 1, 1, 1, 1, 1, 1, 1, 1, 1, 1, 1, 1,\n",
      "         1, 1, 1, 1, 1, 1, 1, 1]])\n",
      "\n",
      "Example 1\n",
      "Text: 0.23754884 0.5283203 0.62890625 0.2241211 0.52368164 0.60815436 0.24389648 0.5895996 0.6638184 0.2878418 0.75219727 0.7392579 0.2878418 0.75219727 0.7392579 0.38598633 0.9177246 0.80151373 0.15576172 0.7602539 0.6179199 0.09423829 0.8850098 0.53222656 0.09936524 1.0598145 0.53564453 0.1953125 1.123291 0.57910156 0.2915039 1.0224609 0.5625 0.29516602 0.7844238 0.4685059 0.29516602 0.7844238 0.4685059 0.20703125 0.69458014 0.44702148 0.20703125 0.69458014 0.44702148 0.16699219 0.66259766 0.43017578 0.15576172 0.6555176 0.42016605 0.15576172 0.6555176 0.42016605 0.19458008 0.73657227 0.47656253 0.19458008 0.73657227 0.47656253 0.38671875 1.1005859 0.6367188 0.501709 1.1464844 0.6828614 0.48486328 1.0490723 0.7233887 0.48486328 1.0490723 0.7233887 0.06933594 0.5144043 0.6489258 0.007080079 0.49414065 0.5397949 -0.013916016 0.53393555 0.47485352 -0.013916016 0.53393555 0.47485352 0.10546875 0.5800781 0.54589844 0.40112308 0.6555176 0.6000977 0.5949707 0.7998047 0.61401373 0.58203125 0.68798834 0.62158203 0.5131836 0.58984375 0.51464844 0.47851563 0.63623047 0.45483398 0.5085449 0.5944824 0.44140628 0.5222168 0.6027832 0.4206543 0.6845703 0.7910156 0.44921875 0.7502442 0.68896484 0.3615723 0.75878906 0.6970215 0.3718262 0.61743164 0.58984375 0.33544922\n",
      "Label: 0\n",
      "Tokenized input_ids: [101, 1014, 1012, 23297, 27009, 2620, 2620, 2549, 1014, 1012, 4720, 2620, 16703, 2692, 2509, 1014, 1012, 5786, 2620, 21057, 2575, 17788, 1014, 1012, 19711, 12521, 14526, 1014, 1012, 4720, 21619, 102]\n",
      "Tokenized attention_mask: [1, 1, 1, 1, 1, 1, 1, 1, 1, 1, 1, 1, 1, 1, 1, 1, 1, 1, 1, 1, 1, 1, 1, 1, 1, 1, 1, 1, 1, 1, 1, 1]\n",
      "\n",
      "Example 2\n",
      "Text: 0.80859375 0.037353516 0.75463873 0.8081055 0.010009766 0.7773438 0.76171875 0.046386722 0.72558594 0.77197266 0.04296875 0.66918945 0.75927734 0.067871094 0.61840826 0.7565918 0.075683594 0.55981445 0.7260743 0.10839844 0.51416016 0.6674805 0.09667969 0.47021484 0.6674805 0.09667969 0.47021484 0.5253906 0.083496094 0.38793948 0.5253906 0.083496094 0.38793948 0.42993164 0.068603516 0.39086917 0.42993164 0.068603516 0.39086917 0.2705078 0.057128906 0.3413086 0.2705078 0.057128906 0.3413086 0.21826172 0.10205078 0.31079102 0.21826172 0.10205078 0.31079102 0.1809082 0.08837891 0.40625003 0.1809082 0.08837891 0.40625003 0.25854492 0.014160157 0.52441406 0.25854492 0.014160157 0.52441406 0.4758301 0.025146484 0.8640137 0.2258301 0.089111336 0.82910156 0.006347657 0.016601563 0.8186035 -0.1538086 -0.07421875 0.6389161 0.84545904 -0.18164063 -0.05737305 0.65844727 0.67211914 1.4931642 0.39990234 1.2214357 5.2180176 1.452881 0.75170904 1.0522461 0.41943362 1.661377 0.84350586 -1.2558595 0.9885254 1.4040527 -1.8823242 0.23291016 0.2590332 -0.81884766 0.5769043 0.64575195 -0.32470703 0.8178711 0.60156256 -0.48291016 0.53515625 0.701416 -0.42602542 0.6123047 0.51416016 -0.3483887 0.62768555 0.5019531 -0.4074707 0.6865235 0.5041504 -0.48291016 0.5654297 0.59033203 -0.5749512 0.6206055 0.57470703\n",
      "Label: 1\n",
      "Tokenized input_ids: [101, 1014, 1012, 3770, 27531, 2683, 24434, 2629, 1014, 1012, 6021, 2581, 19481, 19481, 16048, 1014, 1012, 4293, 21472, 22025, 2581, 2509, 1014, 1012, 3770, 2620, 10790, 24087, 1014, 1012, 5890, 102]\n",
      "Tokenized attention_mask: [1, 1, 1, 1, 1, 1, 1, 1, 1, 1, 1, 1, 1, 1, 1, 1, 1, 1, 1, 1, 1, 1, 1, 1, 1, 1, 1, 1, 1, 1, 1, 1]\n"
     ]
    },
    {
     "data": {
      "text/html": [],
      "text/plain": [
       "<IPython.core.display.HTML object>"
      ]
     },
     "metadata": {},
     "output_type": "display_data"
    },
    {
     "name": "stdout",
     "output_type": "stream",
     "text": [
      "Accuracy: 0.6730\n",
      "Precision: 0.6795\n",
      "Recall: 0.6730\n",
      "F1 Score: 0.6702\n",
      "ROC AUC: 0.7349\n",
      "\n",
      "Classification Report:\n",
      "               precision    recall  f1-score   support\n",
      "\n",
      "    Not Fall     0.7143    0.5812    0.6409       585\n",
      "        Fall     0.6444    0.7655    0.6998       580\n",
      "\n",
      "    accuracy                         0.6730      1165\n",
      "   macro avg     0.6793    0.6734    0.6703      1165\n",
      "weighted avg     0.6795    0.6730    0.6702      1165\n",
      "\n"
     ]
    }
   ],
   "source": [
    "# Inspect the tokenization process\n",
    "sample_text = X_train_text[0]\n",
    "encoding = tokenizer.encode_plus(\n",
    "    sample_text,\n",
    "    max_length=max_length,\n",
    "    padding='max_length',\n",
    "    truncation=True,\n",
    "    return_tensors='pt'\n",
    ")\n",
    "\n",
    "print(\"Sample text:\", sample_text)\n",
    "print(\"Tokenized input_ids:\", encoding['input_ids'])\n",
    "print(\"Tokenized attention_mask:\", encoding['attention_mask'])\n",
    "\n",
    "# Inspect a few examples from the dataset\n",
    "for i in range(2):\n",
    "    print(f\"\\nExample {i+1}\")\n",
    "    print(\"Text:\", X_train_text[i])\n",
    "    print(\"Label:\", y_train[i])\n",
    "    encoding = tokenizer.encode_plus(\n",
    "        X_train_text[i],\n",
    "        max_length=max_length,\n",
    "        padding='max_length',\n",
    "        truncation=True,\n",
    "        return_tensors='pt'\n",
    "    )\n",
    "    print(\"Tokenized input_ids:\", encoding['input_ids'].flatten().tolist())\n",
    "    print(\"Tokenized attention_mask:\", encoding['attention_mask'].flatten().tolist())\n",
    "\n",
    "# Predict and evaluate\n",
    "predictions = trainer.predict(val_dataset)  # Predict on validation set\n",
    "y_pred = np.argmax(predictions.predictions, axis=1)\n",
    "\n",
    "# Ensure y_val and y_pred are numpy arrays\n",
    "y_val = np.array(y_val)\n",
    "y_pred = np.array(y_pred)\n",
    "\n",
    "# Calculate evaluation metrics\n",
    "accuracy = accuracy_score(y_val, y_pred)\n",
    "precision = precision_score(y_val, y_pred, average='weighted')\n",
    "recall = recall_score(y_val, y_pred, average='weighted')\n",
    "f1 = f1_score(y_val, y_pred, average='weighted')\n",
    "roc_auc = roc_auc_score(y_val, predictions.predictions[:, 1], average='weighted')\n",
    "\n",
    "print(f\"Accuracy: {accuracy:.4f}\")\n",
    "print(f\"Precision: {precision:.4f}\")\n",
    "print(f\"Recall: {recall:.4f}\")\n",
    "print(f\"F1 Score: {f1:.4f}\")\n",
    "print(f\"ROC AUC: {roc_auc:.4f}\")\n",
    "\n",
    "# Print classification report\n",
    "report = classification_report(y_val, y_pred, target_names=['Not Fall', 'Fall'], digits=4)\n",
    "print(\"\\nClassification Report:\\n\", report)\n"
   ]
  },
  {
   "cell_type": "code",
   "execution_count": 53,
   "metadata": {
    "colab": {
     "base_uri": "https://localhost:8080/",
     "height": 472
    },
    "id": "KcVIQEqHX9ow",
    "outputId": "f47fe55b-0903-4c73-ba8c-3cb40812d652"
   },
   "outputs": [
    {
     "data": {
      "image/png": "[encoded data removed]",
      "text/plain": [
       "<Figure size 640x480 with 1 Axes>"
      ]
     },
     "metadata": {},
     "output_type": "display_data"
    }
   ],
   "source": [
    "import matplotlib.pyplot as plt\n",
    "from sklearn.metrics import roc_curve, auc\n",
    "\n",
    "# Compute ROC curve and ROC area for the validation set\n",
    "fpr, tpr, _ = roc_curve(y_val, predictions.predictions[:, 1])\n",
    "roc_auc = auc(fpr, tpr)\n",
    "\n",
    "# Plot ROC curve\n",
    "plt.figure()\n",
    "plt.plot(fpr, tpr, color='blue', lw=2, label=f'ROC curve (area = {roc_auc:.4f})')\n",
    "plt.plot([0, 1], [0, 1], color='grey', lw=2, linestyle='--')\n",
    "plt.xlim([0.0, 1.0])\n",
    "plt.ylim([0.0, 1.05])\n",
    "plt.xlabel('False Positive Rate')\n",
    "plt.ylabel('True Positive Rate')\n",
    "plt.title('Receiver Operating Characteristic (ROC) Curve')\n",
    "plt.legend(loc='lower right')\n",
    "plt.grid(True)\n",
    "plt.show()\n"
   ]
  },
  {
   "cell_type": "code",
   "execution_count": 54,
   "metadata": {
    "colab": {
     "base_uri": "https://localhost:8080/",
     "height": 564
    },
    "id": "jmLTOfXoYBVY",
    "outputId": "3110a6c8-2789-40ea-a4aa-fc8f2cd14d95"
   },
   "outputs": [
    {
     "data": {
      "image/png": "[encoded data removed]",
      "text/plain": [
       "<Figure size 800x600 with 2 Axes>"
      ]
     },
     "metadata": {},
     "output_type": "display_data"
    }
   ],
   "source": [
    "import seaborn as sns\n",
    "from sklearn.metrics import confusion_matrix\n",
    "\n",
    "# Compute confusion matrix\n",
    "cm = confusion_matrix(y_val, y_pred, labels=[0, 1])  # Assuming 0 is 'Not Fall' and 1 is 'Fall'\n",
    "\n",
    "# Plot confusion matrix\n",
    "plt.figure(figsize=(8, 6))\n",
    "sns.heatmap(cm, annot=True, fmt='d', cmap='Blues', xticklabels=['Not Fall', 'Fall'], yticklabels=['Not Fall', 'Fall'])\n",
    "plt.xlabel('Predicted labels')\n",
    "plt.ylabel('True labels')\n",
    "plt.title('Confusion Matrix')\n",
    "plt.show()\n"
   ]
  }
 ],
 "metadata": {
  "colab": {
   "provenance": []
  },
  "kernelspec": {
   "display_name": "Python 3 (ipykernel)",
   "language": "python",
   "name": "python3"
  },
  "language_info": {
   "codemirror_mode": {
    "name": "ipython",
    "version": 3
   },
   "file_extension": ".py",
   "mimetype": "text/x-python",
   "name": "python",
   "nbconvert_exporter": "python",
   "pygments_lexer": "ipython3",
   "version": "3.12.2"
  }
 },
 "nbformat": 4,
 "nbformat_minor": 4
}
