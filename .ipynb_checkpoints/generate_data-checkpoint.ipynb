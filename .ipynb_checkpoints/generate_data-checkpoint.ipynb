{
 "cells": [
  {
   "cell_type": "code",
   "execution_count": 1,
   "id": "1bca1365-5b8e-4f9b-bf4d-9c91c2d1bbe8",
   "metadata": {},
   "outputs": [],
   "source": [
    "import numpy as np\n",
    "import pandas as pd\n",
    "import tqdm\n",
    "import collections \n",
    "import time\n",
    "import pickle"
   ]
  },
  {
   "cell_type": "code",
   "execution_count": 2,
   "id": "81e29bbd-a9e4-4288-ae9f-c6959212ade2",
   "metadata": {},
   "outputs": [],
   "source": [
    "train = pd.read_csv('data/raw182_Training_Relabeled_Auto_25.csv')\n",
    "test = pd.read_csv('data/raw91_Testing_Relabeled_Auto_25.csv')"
   ]
  },
  {
   "cell_type": "markdown",
   "id": "4fc90bc5-be5a-4515-8c3e-58b21d765981",
   "metadata": {},
   "source": [
    "### data preprocessing\n",
    "\n",
    "- sliding window = 40\n",
    "- if there is equal or more than 25 fall -> lable of chunk is fall"
   ]
  },
  {
   "cell_type": "code",
   "execution_count": 3,
   "id": "f17c028b-bb80-48ea-8a39-235b627de382",
   "metadata": {},
   "outputs": [
    {
     "name": "stderr",
     "output_type": "stream",
     "text": [
      "100%|██████████████████████████████████| 33980/33980 [00:01<00:00, 20333.56it/s]\n"
     ]
    }
   ],
   "source": [
    "n = 40\n",
    "X_train_adl, X_train_fall, y_train_adl, y_train_fall = list(), list(), list(), list()\n",
    "for i in tqdm.tqdm(range(0, len(train) - 40)):\n",
    "    temp = list()\n",
    "    \n",
    "    temp.append(train[' ms_accelerometer_x'][i : i + n])\n",
    "    temp.append(train[' ms_accelerometer_y'][i : i + n])\n",
    "    temp.append(train[' ms_accelerometer_z'][i : i + n])\n",
    "    \n",
    "    cnt = collections.Counter(train['outcome'][i : i + n])\n",
    "    num_adl = cnt[0]\n",
    "    num_fall = cnt[1]\n",
    "    \n",
    "    if num_fall >= 25:\n",
    "        y_train_fall.append(1)\n",
    "        X_train_fall.append(temp)\n",
    "    else:\n",
    "        y_train_adl.append(0)\n",
    "        X_train_adl.append(temp)"
   ]
  },
  {
   "cell_type": "code",
   "execution_count": 4,
   "id": "b5d0b9a5-00e3-4bfd-9dd4-3ca875967800",
   "metadata": {},
   "outputs": [
    {
     "name": "stderr",
     "output_type": "stream",
     "text": [
      "100%|██████████████████████████████████| 17189/17189 [00:00<00:00, 19367.45it/s]\n"
     ]
    }
   ],
   "source": [
    "n = 40\n",
    "X_test_adl, X_test_fall, y_test_adl, y_test_fall = list(), list(), list(), list()\n",
    "for i in tqdm.tqdm(range(0, len(test) - 40)):\n",
    "    temp = list()\n",
    "    \n",
    "    temp.append(test[' ms_accelerometer_x'][i : i + n])\n",
    "    temp.append(test[' ms_accelerometer_y'][i : i + n])\n",
    "    temp.append(test[' ms_accelerometer_z'][i : i + n])\n",
    "    \n",
    "    cnt = collections.Counter(test['outcome'][i : i + n])\n",
    "    num_adl = cnt[0]\n",
    "    num_fall = cnt[1]\n",
    "    \n",
    "    if num_fall >= 25:\n",
    "        y_test_fall.append(1)\n",
    "        X_test_fall.append(temp)\n",
    "    else:\n",
    "        y_test_adl.append(0)\n",
    "        X_test_adl.append(temp)"
   ]
  },
  {
   "cell_type": "code",
   "execution_count": 5,
   "id": "eba88c1a-388f-4bb3-9d60-54c28c34cca1",
   "metadata": {},
   "outputs": [
    {
     "name": "stdout",
     "output_type": "stream",
     "text": [
      "number of train data fall 2912\n",
      "number of train data not fall 31068\n"
     ]
    }
   ],
   "source": [
    "len_train_notfall = len(X_train_adl)\n",
    "len_train_fall = len(X_train_fall)\n",
    "print('number of train data fall', len_train_fall)\n",
    "print('number of train data not fall', len_train_notfall)"
   ]
  },
  {
   "cell_type": "code",
   "execution_count": 6,
   "id": "e43bd7c4-6759-4311-817b-17b098ec55ec",
   "metadata": {},
   "outputs": [
    {
     "name": "stdout",
     "output_type": "stream",
     "text": [
      "number of test data fall 1456\n",
      "number of test data not fall 15733\n"
     ]
    }
   ],
   "source": [
    "len_test_notfall = len(X_test_adl)\n",
    "len_test_fall = len(X_test_fall)\n",
    "print('number of test data fall', len_test_fall)\n",
    "print('number of test data not fall', len_test_notfall)"
   ]
  },
  {
   "cell_type": "code",
   "execution_count": 7,
   "id": "538debe9-7948-4a78-9bf5-d068939f915e",
   "metadata": {},
   "outputs": [
    {
     "name": "stdout",
     "output_type": "stream",
     "text": [
      "5824\n",
      "5824\n"
     ]
    }
   ],
   "source": [
    "# downsampling X train\n",
    "\n",
    "X_train_notfall = X_train_adl[:len_train_fall]\n",
    "y_train_notfall = y_train_adl[:len_train_fall]\n",
    "\n",
    "y_train_gen = y_train_notfall + y_train_fall\n",
    "X_train_gen = X_train_notfall + X_train_fall\n",
    "\n",
    "print(len(X_train_gen))\n",
    "print(len(y_train_gen))"
   ]
  },
  {
   "cell_type": "code",
   "execution_count": 8,
   "id": "b466f213-1281-464c-aa89-365fbcfb64ad",
   "metadata": {},
   "outputs": [
    {
     "name": "stdout",
     "output_type": "stream",
     "text": [
      "2912\n",
      "2912\n"
     ]
    }
   ],
   "source": [
    "# downsampling X test\n",
    "\n",
    "X_test_notfall = X_test_adl[:len_test_fall]\n",
    "y_test_notfall = y_test_adl[:len_test_fall]\n",
    "\n",
    "y_test_gen = y_test_notfall + y_test_fall\n",
    "X_test_gen = X_test_notfall + X_test_fall\n",
    "\n",
    "print(len(X_test_gen))\n",
    "print(len(y_test_gen))"
   ]
  },
  {
   "cell_type": "code",
   "execution_count": 9,
   "id": "4a71a575-4366-4f53-92a2-edbe9f68558f",
   "metadata": {},
   "outputs": [],
   "source": [
    "dic_train = {}\n",
    "for i in range(0,len(X_train_gen)):\n",
    "    # X\n",
    "    df_chunk = pd.DataFrame(X_train_gen[i]).T\n",
    "    # y\n",
    "    label_chunk = y_train_gen[i]\n",
    "    dic_train[i] = (df_chunk,label_chunk)"
   ]
  },
  {
   "cell_type": "code",
   "execution_count": 10,
   "id": "f6ba5f0f-8f30-407a-a40c-3ee1556676e2",
   "metadata": {},
   "outputs": [
    {
     "data": {
      "text/plain": [
       "5824"
      ]
     },
     "execution_count": 10,
     "metadata": {},
     "output_type": "execute_result"
    }
   ],
   "source": [
    "len(dic_train)"
   ]
  },
  {
   "cell_type": "code",
   "execution_count": 11,
   "id": "f39d53ac-e1ce-4649-9cce-194a44ddf10c",
   "metadata": {},
   "outputs": [],
   "source": [
    "dic_test = {}\n",
    "for i in range(0,len(X_test_gen)):\n",
    "    # X\n",
    "    df_chunk = pd.DataFrame(X_test_gen[i]).T\n",
    "    # y\n",
    "    label_chunk = y_test_gen[i]\n",
    "    dic_test[i] = (df_chunk,label_chunk)"
   ]
  },
  {
   "cell_type": "code",
   "execution_count": 12,
   "id": "129684cb-fac6-4f0e-ba9f-9e2177f0a789",
   "metadata": {},
   "outputs": [
    {
     "data": {
      "text/plain": [
       "2912"
      ]
     },
     "execution_count": 12,
     "metadata": {},
     "output_type": "execute_result"
    }
   ],
   "source": [
    "len(dic_test)"
   ]
  },
  {
   "cell_type": "code",
   "execution_count": 13,
   "id": "6f0d3dd4-e256-43fe-b69f-b49d19877133",
   "metadata": {},
   "outputs": [],
   "source": [
    "with open('data/data_train.pkl', 'wb') as file:\n",
    "    pickle.dump(dic_train, file)"
   ]
  },
  {
   "cell_type": "code",
   "execution_count": 14,
   "id": "e310bda9-4267-4a7b-9169-6165fa1c9de2",
   "metadata": {},
   "outputs": [],
   "source": [
    "with open('data/data_test.pkl', 'wb') as file:\n",
    "    pickle.dump(dic_test, file)"
   ]
  },
  {
   "cell_type": "code",
   "execution_count": 15,
   "id": "437006f7-25d4-4448-8f91-5c5d369f8f8a",
   "metadata": {},
   "outputs": [
    {
     "name": "stdout",
     "output_type": "stream",
     "text": [
      "(    ms_accelerometer_x  ms_accelerometer_y  ms_accelerometer_z\n",
      "0             0.963379            0.063477           -0.036865\n",
      "1             0.990723            0.057617            0.005371\n",
      "2             0.990967            0.108398            0.034668\n",
      "3             0.976807            0.184570            0.060791\n",
      "4             0.999268            0.143311            0.055176\n",
      "5             1.026367            0.109375            0.048096\n",
      "6             1.011963            0.097900            0.048340\n",
      "7             0.999023            0.061035            0.077148\n",
      "8             0.999023            0.061035            0.077148\n",
      "9             0.930176           -0.141357            0.406250\n",
      "10            0.876709           -0.259766            0.372314\n",
      "11            0.971680           -0.078125            0.221924\n",
      "12            1.051025            0.028076            0.108887\n",
      "13            1.051025            0.028076            0.108887\n",
      "14            1.017334            0.125977            0.005127\n",
      "15            0.989746            0.335205            0.047607\n",
      "16            0.898682            0.491943            0.053223\n",
      "17            0.875000            0.030029            0.151367\n",
      "18            0.936279           -0.290283            0.147705\n",
      "19            1.166260           -0.132568            0.259766\n",
      "20            1.113525           -0.200928            0.174805\n",
      "21            1.056152           -0.196289            0.194824\n",
      "22            1.065185           -0.236328            0.194580\n",
      "23            1.045898           -0.150635            0.196777\n",
      "24            1.045898           -0.150635            0.196777\n",
      "25            0.937988           -0.182129            0.221924\n",
      "26            0.715332            0.470703            0.186035\n",
      "27            0.297363            0.421631            0.206055\n",
      "28            0.145752           -0.204102            0.478271\n",
      "29            0.532959            0.320557            0.176270\n",
      "30            0.532959            0.320557            0.176270\n",
      "31            0.532959            0.320557            0.176270\n",
      "32            0.532959            0.320557            0.176270\n",
      "33            0.739746            0.183350            0.169922\n",
      "34            1.152344           -0.036133            0.281250\n",
      "35            2.110840           -1.016846            0.129639\n",
      "36            0.726807           -0.210938            0.128418\n",
      "37            0.281006            0.645508            0.376221\n",
      "38            0.281006            0.645508            0.376221\n",
      "39            1.094971            0.351318            0.280762, 0)\n"
     ]
    }
   ],
   "source": [
    "# load train data\n",
    "with open('data/data_train.pkl', 'rb') as file:\n",
    "    data_train = pickle.load(file)\n",
    "\n",
    "print(data_train[0])"
   ]
  },
  {
   "cell_type": "code",
   "execution_count": 16,
   "id": "44819486-97c6-4503-a4cb-761295d1450b",
   "metadata": {},
   "outputs": [
    {
     "name": "stdout",
     "output_type": "stream",
     "text": [
      "(    ms_accelerometer_x  ms_accelerometer_y  ms_accelerometer_z\n",
      "0             1.058105            0.096436            0.113037\n",
      "1             0.718506            0.233887            0.220703\n",
      "2             0.718506            0.233887            0.220703\n",
      "3             0.960205            0.190430            0.051270\n",
      "4             0.960205            0.190430            0.051270\n",
      "5             0.935059            0.127197           -0.030029\n",
      "6             0.935059            0.127197           -0.030029\n",
      "7             0.911133            0.191895           -0.025879\n",
      "8             0.963867            0.259033            0.033447\n",
      "9             0.968018            0.287842            0.178955\n",
      "10            0.953369            0.293701            0.094482\n",
      "11            0.968262            0.444580            0.054443\n",
      "12            0.974365            0.365479            0.104980\n",
      "13            0.937256            0.462891            0.149414\n",
      "14            0.880615            0.410156            0.115234\n",
      "15            0.878418            0.348877            0.080322\n",
      "16            0.799316            0.211670            0.267578\n",
      "17            0.831787            0.145508            0.230225\n",
      "18            0.798096            0.126465            0.238525\n",
      "19            0.870605            0.090332            0.221436\n",
      "20            1.286865           -0.080078            0.260986\n",
      "21            1.264893           -0.046875            0.312988\n",
      "22            1.078857            0.042480            0.319336\n",
      "23            0.950684           -0.035889            0.290283\n",
      "24            0.905029            0.022705            0.268799\n",
      "25            0.591553            0.486084            0.096680\n",
      "26            0.533936           -0.022949            0.233154\n",
      "27            0.857666            0.821289            0.452393\n",
      "28            0.970215            0.611084            0.469971\n",
      "29            1.135498            0.277100            0.355957\n",
      "30            0.801758            0.130127            0.345459\n",
      "31            0.911377           -0.108887            0.301514\n",
      "32            0.765625            0.169434            0.422363\n",
      "33            0.824707            0.087402            0.412109\n",
      "34            0.848145            0.052002            0.431641\n",
      "35            0.875244            0.006592            0.430420\n",
      "36            0.887939            0.013184            0.433105\n",
      "37            0.864502           -0.002686            0.458496\n",
      "38            0.799805           -0.017578            0.495361\n",
      "39            0.796387           -0.035400            0.718018, 0)\n"
     ]
    }
   ],
   "source": [
    "# load test data\n",
    "with open('data/data_test.pkl', 'rb') as file:\n",
    "    data_test = pickle.load(file)\n",
    "\n",
    "print(data_test[0])"
   ]
  },
  {
   "cell_type": "code",
   "execution_count": null,
   "id": "f6af97fd-864d-4724-a719-2784085f16d3",
   "metadata": {},
   "outputs": [],
   "source": []
  }
 ],
 "metadata": {
  "kernelspec": {
   "display_name": "Python (torch)",
   "language": "python",
   "name": "pytorch"
  },
  "language_info": {
   "codemirror_mode": {
    "name": "ipython",
    "version": 3
   },
   "file_extension": ".py",
   "mimetype": "text/x-python",
   "name": "python",
   "nbconvert_exporter": "python",
   "pygments_lexer": "ipython3",
   "version": "3.11.9"
  }
 },
 "nbformat": 4,
 "nbformat_minor": 5
}
