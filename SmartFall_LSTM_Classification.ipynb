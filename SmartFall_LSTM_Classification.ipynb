{
 "cells": [
  {
   "cell_type": "code",
   "execution_count": 1,
   "metadata": {
    "ExecuteTime": {
     "end_time": "2020-07-28T10:41:39.264397Z",
     "start_time": "2020-07-28T10:41:38.449548Z"
    }
   },
   "outputs": [],
   "source": [
    "import matplotlib.pyplot as plt\n",
    "import numpy as np\n",
    "import pandas as pd\n",
    "import tqdm\n",
    "import collections \n",
    "import time\n",
    "%matplotlib inline\n",
    "\n",
    "from sklearn.model_selection import train_test_split\n",
    "from sklearn.preprocessing import LabelEncoder\n",
    "\n",
    "import torch\n",
    "from torch import nn\n",
    "from torch.nn import functional as F\n",
    "from torch.utils.data import TensorDataset, DataLoader\n",
    "from torch.optim.lr_scheduler import _LRScheduler"
   ]
  },
  {
   "cell_type": "code",
   "execution_count": 2,
   "metadata": {
    "ExecuteTime": {
     "end_time": "2020-07-28T10:41:56.760905Z",
     "start_time": "2020-07-28T10:41:56.633517Z"
    }
   },
   "outputs": [],
   "source": [
    "train = pd.read_csv('raw182_Training_Relabeled_Auto_25.csv')\n",
    "test = pd.read_csv('raw91_Testing_Relabeled_Auto_25.csv')"
   ]
  },
  {
   "cell_type": "markdown",
   "metadata": {},
   "source": [
    "## Preprecessing"
   ]
  },
  {
   "cell_type": "code",
   "execution_count": 3,
   "metadata": {
    "ExecuteTime": {
     "end_time": "2020-07-28T10:43:08.676638Z",
     "start_time": "2020-07-28T10:42:10.878448Z"
    }
   },
   "outputs": [],
   "source": [
    "n = 40\n",
    "X_train, y_train = list(), list()\n",
    "\n",
    "for i in range(0, len(train) - n):\n",
    "    temp = list()\n",
    "    \n",
    "    temp.append(train[' ms_accelerometer_x'][i : i + n])\n",
    "    temp.append(train[' ms_accelerometer_y'][i : i + n])\n",
    "    temp.append(train[' ms_accelerometer_z'][i : i + n])\n",
    "    \n",
    "    cnt = collections.Counter(train['outcome'][i: i + n])\n",
    "    num_fall = cnt[1] \n",
    "    \n",
    "    if num_fall == 25:\n",
    "        y_train.append(1)\n",
    "    else:\n",
    "        y_train.append(0)\n",
    "    \n",
    "    X_train.append(temp)\n"
   ]
  },
  {
   "cell_type": "code",
   "execution_count": 4,
   "metadata": {
    "ExecuteTime": {
     "end_time": "2020-07-28T10:44:04.084169Z",
     "start_time": "2020-07-28T10:43:08.678712Z"
    }
   },
   "outputs": [],
   "source": [
    "n = 40\n",
    "X_test_adl, X_test_fall, y_test_adl, y_test_fall = list(), list(), list(), list()\n",
    "\n",
    "for i in range(0, len(test) - n):\n",
    "    temp = list()\n",
    "    \n",
    "    temp.append(test[' ms_accelerometer_x'][i : i + n])\n",
    "    temp.append(test[' ms_accelerometer_y'][i : i + n])\n",
    "    temp.append(test[' ms_accelerometer_z'][i : i + n])\n",
    "    \n",
    "    cnt = collections.Counter(test['outcome'][i : i + n])\n",
    "    num_adl = cnt[0]\n",
    "    num_fall = cnt[1]\n",
    "    \n",
    "    if num_fall == 25:\n",
    "        y_test_fall.append(1)\n",
    "        X_test_fall.append(temp)\n",
    "    else:\n",
    "        y_test_adl.append(0)\n",
    "        X_test_adl.append(temp)\n"
   ]
  },
  {
   "cell_type": "code",
   "execution_count": 5,
   "metadata": {
    "ExecuteTime": {
     "end_time": "2020-07-28T10:44:04.097816Z",
     "start_time": "2020-07-28T10:44:04.091016Z"
    }
   },
   "outputs": [
    {
     "name": "stdout",
     "output_type": "stream",
     "text": [
      "1456\n",
      "15733\n"
     ]
    }
   ],
   "source": [
    "print(len(y_test_fall))\n",
    "print(len(y_test_adl))"
   ]
  },
  {
   "cell_type": "code",
   "execution_count": 6,
   "metadata": {
    "ExecuteTime": {
     "end_time": "2020-07-28T10:44:04.480489Z",
     "start_time": "2020-07-28T10:44:04.099653Z"
    }
   },
   "outputs": [],
   "source": [
    "# to keep the balance between ADL and FALL data, used only part of ADL data\n",
    "\n",
    "X_test_adl = X_test_adl[:3216]\n",
    "y_test_adl = y_test_adl[:3216]\n",
    "\n",
    "y_test = y_test_adl + y_test_fall\n",
    "X_test = X_test_adl + X_test_fall"
   ]
  },
  {
   "cell_type": "code",
   "execution_count": 7,
   "metadata": {
    "ExecuteTime": {
     "end_time": "2020-07-28T10:44:04.494895Z",
     "start_time": "2020-07-28T10:44:04.483486Z"
    }
   },
   "outputs": [
    {
     "name": "stdout",
     "output_type": "stream",
     "text": [
      "length of test data 4672\n"
     ]
    }
   ],
   "source": [
    "print('length of test data', len(X_test))"
   ]
  },
  {
   "cell_type": "code",
   "execution_count": 8,
   "metadata": {
    "ExecuteTime": {
     "end_time": "2020-07-28T10:44:04.514343Z",
     "start_time": "2020-07-28T10:44:04.496499Z"
    }
   },
   "outputs": [
    {
     "name": "stdout",
     "output_type": "stream",
     "text": [
      "train data adl and fall ratio\n",
      "--------------------------------\n",
      "train data adl ratio:  31068\n",
      "train data fall ratio:  2912\n",
      "--------------------------------\n",
      "test data adl ratio:  3216\n",
      "test data fall ratio:  1456\n"
     ]
    }
   ],
   "source": [
    "print('train data adl and fall ratio')\n",
    "print('--------------------------------')\n",
    "cnt_train = collections.Counter(y_train)\n",
    "print('train data adl ratio: ', cnt_train[0])\n",
    "print('train data fall ratio: ', cnt_train[1])\n",
    "print('--------------------------------')\n",
    "\n",
    "cnt_test = collections.Counter(y_test)\n",
    "print('test data adl ratio: ', cnt_test[0])\n",
    "print('test data fall ratio: ', cnt_test[1])"
   ]
  },
  {
   "cell_type": "code",
   "execution_count": 18,
   "metadata": {},
   "outputs": [
    {
     "name": "stdout",
     "output_type": "stream",
     "text": [
      "Train data ADL and FALL ratio\n",
      "--------------------------------\n",
      "Train data ADL ratio: 0.91\n",
      "Train data FALL ratio: 0.09\n",
      "--------------------------------\n",
      "Test data ADL and FALL ratio\n",
      "--------------------------------\n",
      "Test data ADL ratio: 0.69\n",
      "Test data FALL ratio: 0.31\n",
      "--------------------------------\n",
      "Warning: There might be a bias in the testing data.\n"
     ]
    }
   ],
   "source": [
    "import collections\n",
    "\n",
    "# Assuming y_train, y_test_adl, y_test_fall are already defined and contain labels\n",
    "# ADL: 0, FALL: 1\n",
    "\n",
    "# Balance the ADL data in the test set\n",
    "X_test_adl = X_test_adl[:3216]\n",
    "y_test_adl = y_test_adl[:3216]\n",
    "\n",
    "# Combine ADL and FALL data to form the test set\n",
    "y_test = y_test_adl + y_test_fall\n",
    "X_test = X_test_adl + X_test_fall\n",
    "\n",
    "# Print the ratio of ADL and FALL instances in the training data\n",
    "print('Train data ADL and FALL ratio')\n",
    "print('--------------------------------')\n",
    "cnt_train = collections.Counter(y_train)\n",
    "train_adl_ratio = cnt_train[0] / len(y_train)\n",
    "train_fall_ratio = cnt_train[1] / len(y_train)\n",
    "print('Train data ADL ratio: {:.2f}'.format(train_adl_ratio))\n",
    "print('Train data FALL ratio: {:.2f}'.format(train_fall_ratio))\n",
    "print('--------------------------------')\n",
    "\n",
    "# Print the ratio of ADL and FALL instances in the testing data\n",
    "print('Test data ADL and FALL ratio')\n",
    "print('--------------------------------')\n",
    "cnt_test = collections.Counter(y_test)\n",
    "test_adl_ratio = cnt_test[0] / len(y_test)\n",
    "test_fall_ratio = cnt_test[1] / len(y_test)\n",
    "print('Test data ADL ratio: {:.2f}'.format(test_adl_ratio))\n",
    "print('Test data FALL ratio: {:.2f}'.format(test_fall_ratio))\n",
    "print('--------------------------------')\n",
    "\n",
    "# Check for potential bias\n",
    "bias_threshold = 0.05  # You can adjust this threshold as needed\n",
    "if abs(train_adl_ratio - test_adl_ratio) > bias_threshold or abs(train_fall_ratio - test_fall_ratio) > bias_threshold:\n",
    "    print(\"Warning: There might be a bias in the testing data.\")\n",
    "else:\n",
    "    print(\"The testing data does not appear to be biased.\")\n"
   ]
  },
  {
   "cell_type": "markdown",
   "metadata": {},
   "source": [
    "## LSTM model declaration \n"
   ]
  },
  {
   "cell_type": "code",
   "execution_count": 9,
   "metadata": {
    "ExecuteTime": {
     "end_time": "2020-07-28T10:44:11.872338Z",
     "start_time": "2020-07-28T10:44:11.861866Z"
    }
   },
   "outputs": [],
   "source": [
    "class LSTMNet(nn.Module):\n",
    "    def __init__(self, input_dim, hidden_dim, output_dim, n_layers):\n",
    "        super(LSTMNet, self).__init__()\n",
    "        self.hidden_dim = hidden_dim\n",
    "        self.n_layers = n_layers\n",
    "        self.lstm = nn.LSTM(input_dim, hidden_dim, num_layers=n_layers, batch_first=True)\n",
    "        self.fc = nn.Linear(hidden_dim, output_dim)\n",
    "        self.relu = nn.ReLU()\n",
    "\n",
    "    def forward(self, x):\n",
    "        h0, c0 = self.init_hidden(x)\n",
    "        out, (hn, cn) = self.lstm(x, (h0, c0))\n",
    "        out = self.fc(self.relu(out[:, -1]))\n",
    "        return out\n",
    "\n",
    "    def init_hidden(self, x):\n",
    "        batch_size = x.size(0)\n",
    "        h0 = torch.zeros(self.n_layers, batch_size, self.hidden_dim)\n",
    "        c0 = torch.zeros(self.n_layers, batch_size, self.hidden_dim)\n",
    "        return h0, c0"
   ]
  },
  {
   "cell_type": "markdown",
   "metadata": {},
   "source": [
    "## Preparing datasets"
   ]
  },
  {
   "cell_type": "code",
   "execution_count": 10,
   "metadata": {
    "ExecuteTime": {
     "end_time": "2020-07-28T10:44:49.599895Z",
     "start_time": "2020-07-28T10:44:15.959072Z"
    }
   },
   "outputs": [],
   "source": [
    "X_train = np.asarray(X_train).reshape(-1, 40, 3)\n",
    "y_train = np.asarray(y_train).reshape(-1, )\n",
    "\n",
    "X_test = np.asarray(X_test).reshape(-1, 40, 3)\n",
    "y_test = np.asarray(y_test).reshape(-1, )"
   ]
  },
  {
   "cell_type": "code",
   "execution_count": 11,
   "metadata": {
    "ExecuteTime": {
     "end_time": "2020-07-28T10:44:49.621197Z",
     "start_time": "2020-07-28T10:44:49.607656Z"
    }
   },
   "outputs": [],
   "source": [
    "from sklearn.preprocessing import LabelEncoder\n",
    "enc = LabelEncoder()\n",
    "\n",
    "y_train = enc.fit_transform(y_train)\n",
    "y_test = enc.fit_transform(y_test)"
   ]
  },
  {
   "cell_type": "code",
   "execution_count": 12,
   "metadata": {
    "ExecuteTime": {
     "end_time": "2020-07-28T10:44:49.739329Z",
     "start_time": "2020-07-28T10:44:49.623496Z"
    }
   },
   "outputs": [],
   "source": [
    "X_train, X_valid, y_train, y_valid = train_test_split(X_train, y_train, test_size=0.1)"
   ]
  },
  {
   "cell_type": "code",
   "execution_count": 13,
   "metadata": {
    "ExecuteTime": {
     "end_time": "2020-07-28T10:44:58.049206Z",
     "start_time": "2020-07-28T10:44:58.043697Z"
    }
   },
   "outputs": [],
   "source": [
    "batch_size = 128\n",
    "\n",
    "train_data = TensorDataset(torch.from_numpy(X_train), torch.from_numpy(y_train))\n",
    "train_loader = torch.utils.data.DataLoader(\n",
    "    train_data,\n",
    "    shuffle=True, batch_size=batch_size)\n",
    "\n",
    "valid_data = TensorDataset(torch.from_numpy(X_valid), torch.from_numpy(y_valid))\n",
    "valid_loader = torch.utils.data.DataLoader(\n",
    "    valid_data,\n",
    "    shuffle=True, batch_size=batch_size)\n",
    "\n",
    "test_data =TensorDataset(torch.from_numpy(X_test), torch.from_numpy(y_test))\n",
    "test_loader = torch.utils.data.DataLoader(\n",
    "    test_data,\n",
    "    shuffle=True, batch_size=batch_size)"
   ]
  },
  {
   "cell_type": "markdown",
   "metadata": {},
   "source": [
    "## Model training"
   ]
  },
  {
   "cell_type": "code",
   "execution_count": 14,
   "metadata": {
    "ExecuteTime": {
     "end_time": "2020-07-28T10:45:02.402528Z",
     "start_time": "2020-07-28T10:44:59.251870Z"
    }
   },
   "outputs": [
    {
     "name": "stdout",
     "output_type": "stream",
     "text": [
      "LSTMNet(\n",
      "  (lstm): LSTM(3, 256, num_layers=2, batch_first=True)\n",
      "  (fc): Linear(in_features=256, out_features=2, bias=True)\n",
      "  (relu): ReLU()\n",
      ")\n",
      "Epoch [1/10], Loss: 0.3030, Accuracy: 91.02%, Time: 28.99 sec\n",
      "Validation Loss: 0.2917, Validation Accuracy: 91.55%\n",
      "Epoch [2/10], Loss: 0.2934, Accuracy: 91.42%, Time: 29.03 sec\n",
      "Validation Loss: 0.2886, Validation Accuracy: 91.55%\n",
      "Epoch [3/10], Loss: 0.2162, Accuracy: 92.79%, Time: 28.65 sec\n",
      "Validation Loss: 0.1260, Validation Accuracy: 95.41%\n",
      "Epoch [4/10], Loss: 0.0826, Accuracy: 97.11%, Time: 28.44 sec\n",
      "Validation Loss: 0.0732, Validation Accuracy: 97.38%\n",
      "Epoch [5/10], Loss: 0.0656, Accuracy: 97.72%, Time: 29.47 sec\n",
      "Validation Loss: 0.0647, Validation Accuracy: 97.68%\n",
      "Epoch [6/10], Loss: 0.0558, Accuracy: 98.10%, Time: 30.01 sec\n",
      "Validation Loss: 0.0617, Validation Accuracy: 97.62%\n",
      "Epoch [7/10], Loss: 0.0490, Accuracy: 98.41%, Time: 39.35 sec\n",
      "Validation Loss: 0.0615, Validation Accuracy: 97.91%\n",
      "Epoch [8/10], Loss: 0.0435, Accuracy: 98.56%, Time: 30.07 sec\n",
      "Validation Loss: 0.0416, Validation Accuracy: 98.44%\n",
      "Epoch [9/10], Loss: 0.0417, Accuracy: 98.57%, Time: 30.70 sec\n",
      "Validation Loss: 0.0667, Validation Accuracy: 97.85%\n",
      "Epoch [10/10], Loss: 0.0394, Accuracy: 98.63%, Time: 31.25 sec\n",
      "Validation Loss: 0.0326, Validation Accuracy: 98.79%\n",
      "Total Training Time: 305.97 seconds\n"
     ]
    }
   ],
   "source": [
    "import torch\n",
    "import torch.nn as nn\n",
    "import torch.optim as optim\n",
    "from torch.optim.lr_scheduler import CyclicLR\n",
    "from torch.utils.data import DataLoader, TensorDataset\n",
    "import time\n",
    "\n",
    "input_dim = 3  # Number of features (e.g., x, y, z accelerometer readings)\n",
    "hidden_dim = 256\n",
    "output_dim = 2  # Number of classes\n",
    "n_layers = 2\n",
    "lr = 0.001\n",
    "n_epochs = 10\n",
    "lr_min = 0.001\n",
    "lr_max = 0.01\n",
    "\n",
    "# Create model\n",
    "model = LSTMNet(input_dim, hidden_dim, output_dim, n_layers)\n",
    "print(model)\n",
    "\n",
    "criterion = nn.CrossEntropyLoss()\n",
    "optimizer = optim.Adam(model.parameters(), lr=lr)\n",
    "sched = CyclicLR(optimizer, base_lr=lr_min, max_lr=lr_max)\n",
    "\n",
    "# Training loop with accuracy computation and validation\n",
    "epoch_times = []\n",
    "train_losses = []\n",
    "train_accuracies = []\n",
    "\n",
    "for epoch in range(n_epochs):\n",
    "    model.train()\n",
    "    epoch_start_time = time.time()\n",
    "    correct = 0\n",
    "    total = 0\n",
    "    epoch_loss = 0.0\n",
    "\n",
    "    # Training loop\n",
    "    for batch_idx, (data, target) in enumerate(train_loader):\n",
    "        optimizer.zero_grad()\n",
    "        output = model(data.float())  # Ensure data is converted to float\n",
    "        loss = criterion(output, target)\n",
    "        loss.backward()\n",
    "        optimizer.step()\n",
    "        \n",
    "        epoch_loss += loss.item() * data.size(0)\n",
    "\n",
    "        _, predicted = torch.max(output.data, 1)\n",
    "        total += target.size(0)\n",
    "        correct += (predicted == target).sum().item()\n",
    "\n",
    "    # Compute training loss and accuracy\n",
    "    train_losses.append(epoch_loss / len(train_loader.dataset))\n",
    "    train_accuracy = correct / total\n",
    "    train_accuracies.append(train_accuracy)\n",
    "\n",
    "    # Step scheduler\n",
    "    sched.step()\n",
    "\n",
    "    # Compute epoch time\n",
    "    epoch_end_time = time.time()\n",
    "    epoch_times.append(epoch_end_time - epoch_start_time)\n",
    "\n",
    "    # Print training progress\n",
    "    print(f\"Epoch [{epoch+1}/{n_epochs}], Loss: {train_losses[-1]:.4f}, Accuracy: {train_accuracy:.2%}, Time: {epoch_end_time - epoch_start_time:.2f} sec\")\n",
    "\n",
    "    # Validation loop\n",
    "    model.eval()\n",
    "    val_correct = 0\n",
    "    val_total = 0\n",
    "    val_loss = 0.0\n",
    "\n",
    "    with torch.no_grad():\n",
    "        for val_data, val_target in valid_loader:\n",
    "            val_output = model(val_data.float())\n",
    "            val_loss += criterion(val_output, val_target).item() * val_data.size(0)\n",
    "            _, val_predicted = torch.max(val_output.data, 1)\n",
    "            val_total += val_target.size(0)\n",
    "            val_correct += (val_predicted == val_target).sum().item()\n",
    "\n",
    "    # Compute validation loss and accuracy\n",
    "    val_loss = val_loss / len(valid_loader.dataset)\n",
    "    val_accuracy = val_correct / val_total\n",
    "\n",
    "    # Print validation metrics\n",
    "    print(f\"Validation Loss: {val_loss:.4f}, Validation Accuracy: {val_accuracy:.2%}\")\n",
    "\n",
    "print(f\"Total Training Time: {sum(epoch_times):.2f} seconds\")\n"
   ]
  },
  {
   "cell_type": "code",
   "execution_count": 15,
   "metadata": {
    "ExecuteTime": {
     "end_time": "2020-07-28T10:53:15.309733Z",
     "start_time": "2020-07-28T10:53:15.063088Z"
    }
   },
   "outputs": [
    {
     "data": {
      "image/png": "[encoded data removed]",
      "text/plain": [
       "<Figure size 1200x500 with 2 Axes>"
      ]
     },
     "metadata": {},
     "output_type": "display_data"
    }
   ],
   "source": [
    "plt.figure(figsize=(12, 5))\n",
    "plt.suptitle('LSTM Model Training Metrics', fontsize=20, y=1.05)\n",
    "\n",
    "# Plot Loss\n",
    "plt.subplot(1, 2, 1)\n",
    "plt.plot(np.arange(len(train_losses)), train_losses, marker='o', color='b', linestyle='-', linewidth=2, markersize=6)\n",
    "plt.yticks(fontsize=15)\n",
    "plt.xticks(fontsize=15)\n",
    "plt.title('Loss', fontsize=20)\n",
    "plt.xlabel('Epochs', fontsize=15)\n",
    "plt.ylabel('Loss', fontsize=15)\n",
    "plt.grid(True, linestyle='--', alpha=0.7)\n",
    "\n",
    "# Customize axis lines\n",
    "ax = plt.gca()\n",
    "ax.spines['top'].set_visible(False)\n",
    "ax.spines['right'].set_visible(False)\n",
    "ax.spines['left'].set_linewidth(1.5)\n",
    "ax.spines['bottom'].set_linewidth(1.5)\n",
    "ax.xaxis.set_tick_params(width=1.5)\n",
    "ax.yaxis.set_tick_params(width=1.5)\n",
    "\n",
    "# Plot Accuracy\n",
    "plt.subplot(1, 2, 2)\n",
    "plt.plot(np.arange(len(train_accuracies)), train_accuracies, marker='o', color='g', linestyle='-', linewidth=2, markersize=6)\n",
    "plt.yticks(fontsize=15)\n",
    "plt.xticks(fontsize=15)\n",
    "plt.title('Accuracy', fontsize=20)\n",
    "plt.xlabel('Epochs', fontsize=15)\n",
    "plt.ylabel('Accuracy', fontsize=15)\n",
    "plt.grid(True, linestyle='--', alpha=0.7)\n",
    "\n",
    "# Customize axis lines\n",
    "ax = plt.gca()\n",
    "ax.spines['top'].set_visible(False)\n",
    "ax.spines['right'].set_visible(False)\n",
    "ax.spines['left'].set_linewidth(1.5)\n",
    "ax.spines['bottom'].set_linewidth(1.5)\n",
    "ax.xaxis.set_tick_params(width=1.5)\n",
    "ax.yaxis.set_tick_params(width=1.5)\n",
    "\n",
    "plt.subplots_adjust(hspace=0.4, wspace=0.4)\n",
    "plt.show()"
   ]
  },
  {
   "cell_type": "code",
   "execution_count": 16,
   "metadata": {
    "ExecuteTime": {
     "end_time": "2020-07-28T10:53:15.894701Z",
     "start_time": "2020-07-28T10:53:15.311771Z"
    }
   },
   "outputs": [
    {
     "name": "stdout",
     "output_type": "stream",
     "text": [
      "94.75599315068493\n",
      "[[3179   37]\n",
      " [ 208 1248]]\n"
     ]
    }
   ],
   "source": [
    "from sklearn.metrics import confusion_matrix\n",
    "\n",
    "targets = []\n",
    "preds = []\n",
    "correct = 0\n",
    "\n",
    "# Evaluation loop\n",
    "model.eval()\n",
    "with torch.no_grad():\n",
    "    for X, y in test_loader:\n",
    "        output = model(X.float()) \n",
    "\n",
    "        # Calculate predictions\n",
    "        pred = output.max(1, keepdim=True)[1]\n",
    "        correct += pred.eq(y.view_as(pred)).sum().item()\n",
    "\n",
    "        # Collect targets and predictions\n",
    "        targets += list(y.numpy())\n",
    "        preds += list(pred.numpy())\n",
    "\n",
    "# Calculate metrics\n",
    "test_acc = 100. * correct / len(test_loader.dataset)\n",
    "confusion_mtx = confusion_matrix(targets, preds)\n",
    "\n",
    "# Print results\n",
    "print(test_acc)\n",
    "print(confusion_mtx)\n"
   ]
  },
  {
   "cell_type": "code",
   "execution_count": 17,
   "metadata": {
    "ExecuteTime": {
     "end_time": "2020-07-28T10:53:15.931862Z",
     "start_time": "2020-07-28T10:53:15.896701Z"
    }
   },
   "outputs": [
    {
     "name": "stdout",
     "output_type": "stream",
     "text": [
      "Accuracy: 0.9879\n",
      "Precision: 0.9878\n",
      "Recall: 0.9879\n",
      "F1-score: 0.9877\n",
      "Classification Report:\n",
      "              precision    recall  f1-score   support\n",
      "\n",
      "           0       0.99      1.00      0.99      3111\n",
      "           1       0.96      0.89      0.93       287\n",
      "\n",
      "    accuracy                           0.99      3398\n",
      "   macro avg       0.98      0.94      0.96      3398\n",
      "weighted avg       0.99      0.99      0.99      3398\n",
      "\n"
     ]
    }
   ],
   "source": [
    "import torch\n",
    "from sklearn.metrics import classification_report, accuracy_score, precision_recall_fscore_support\n",
    "\n",
    "# Assuming valid_loader is defined\n",
    "targets = []\n",
    "preds = []\n",
    "\n",
    "model.eval()\n",
    "with torch.no_grad():\n",
    "    for data, target in valid_loader:\n",
    "        output = model(data.float())  \n",
    "        _, predicted = torch.max(output, 1)\n",
    "        targets.extend(target.numpy())\n",
    "        preds.extend(predicted.numpy())\n",
    "\n",
    "# Calculate metrics\n",
    "accuracy = accuracy_score(targets, preds)\n",
    "precision, recall, f1_score, _ = precision_recall_fscore_support(targets, preds, average='weighted')\n",
    "\n",
    "# Print results\n",
    "print(f\"Accuracy: {accuracy:.4f}\")\n",
    "print(f\"Precision: {precision:.4f}\")\n",
    "print(f\"Recall: {recall:.4f}\")\n",
    "print(f\"F1-score: {f1_score:.4f}\")\n",
    "\n",
    "# Print detailed classification report\n",
    "class_report = classification_report(targets, preds)\n",
    "print(\"Classification Report:\")\n",
    "print(class_report)\n"
   ]
  }
 ],
 "metadata": {
  "kernelspec": {
   "display_name": "Python 3 (ipykernel)",
   "language": "python",
   "name": "python3"
  },
  "language_info": {
   "codemirror_mode": {
    "name": "ipython",
    "version": 3
   },
   "file_extension": ".py",
   "mimetype": "text/x-python",
   "name": "python",
   "nbconvert_exporter": "python",
   "pygments_lexer": "ipython3",
   "version": "3.11.7"
  },
  "toc": {
   "base_numbering": 1,
   "nav_menu": {},
   "number_sections": false,
   "sideBar": true,
   "skip_h1_title": false,
   "title_cell": "Table of Contents",
   "title_sidebar": "Contents",
   "toc_cell": false,
   "toc_position": {},
   "toc_section_display": true,
   "toc_window_display": false
  }
 },
 "nbformat": 4,
 "nbformat_minor": 4
}
