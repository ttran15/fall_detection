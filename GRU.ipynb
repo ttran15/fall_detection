{
 "cells": [
  {
   "cell_type": "code",
   "execution_count": 1,
   "id": "53909f0a-a315-440a-9927-c8e59db44cf0",
   "metadata": {},
   "outputs": [],
   "source": [
    "from sklearn.preprocessing import StandardScaler\n",
    "from sklearn.metrics import accuracy_score, precision_score, recall_score, f1_score\n",
    "from tensorflow.keras.models import Sequential\n",
    "from tensorflow.keras.layers import GRU, Dense, Dropout\n",
    "from tensorflow.keras.optimizers import Adam\n",
    "import matplotlib.pyplot as plt\n",
    "import numpy as np\n",
    "import pandas as pd\n",
    "from tqdm import tqdm\n",
    "import collections \n",
    "import time\n",
    "%matplotlib inline\n",
    "\n",
    "from sklearn.model_selection import train_test_split\n",
    "from sklearn.preprocessing import LabelEncoder"
   ]
  },
  {
   "cell_type": "code",
   "execution_count": 2,
   "id": "205d9544-43b1-4e05-9f4f-45dac7f57574",
   "metadata": {},
   "outputs": [],
   "source": [
    "import pandas as pd\n",
    "import numpy as np\n",
    "\n",
    "# Load the datasets\n",
    "train_df = pd.read_csv('raw182_Training_Relabeled_Auto_25.csv')\n",
    "test_df = pd.read_csv('raw91_Testing_Relabeled_Auto_25.csv')"
   ]
  },
  {
   "cell_type": "code",
   "execution_count": 3,
   "id": "2faca44a-9888-4c05-96d6-3ed5df2432e5",
   "metadata": {},
   "outputs": [],
   "source": [
    "n = 40\n",
    "X_train, y_train = [], []\n",
    "\n",
    "for i in range(0, len(train_df) - n):\n",
    "    temp = []\n",
    "\n",
    "    temp.append(train_df[' ms_accelerometer_x'][i : i + n])\n",
    "    temp.append(train_df[' ms_accelerometer_y'][i : i + n])\n",
    "    temp.append(train_df[' ms_accelerometer_z'][i : i + n])\n",
    "\n",
    "    cnt = collections.Counter(train_df['outcome'][i: i + n])\n",
    "    num_adl = cnt[0]\n",
    "    num_fall = cnt[1]\n",
    "\n",
    "    if num_fall == 25:\n",
    "        y_train.append(1)\n",
    "    else:\n",
    "        y_train.append(0)\n",
    "\n",
    "    X_train.append(temp)"
   ]
  },
  {
   "cell_type": "code",
   "execution_count": 4,
   "id": "8b7c266a-6061-42a0-8e9e-5f0a4062bf35",
   "metadata": {},
   "outputs": [],
   "source": [
    "n = 40\n",
    "X_test_adl, X_test_fall, y_test_adl, y_test_fall = [], [], [], []\n",
    "\n",
    "for i in range(0, len(test_df) - n):\n",
    "    temp = []\n",
    "\n",
    "    temp.append(test_df[' ms_accelerometer_x'][i : i + n])\n",
    "    temp.append(test_df[' ms_accelerometer_y'][i : i + n])\n",
    "    temp.append(test_df[' ms_accelerometer_z'][i : i + n])\n",
    "\n",
    "    cnt = collections.Counter(test_df['outcome'][i : i + n])\n",
    "    num_adl = cnt[0]\n",
    "    num_fall = cnt[1]\n",
    "\n",
    "    if num_fall == 25:\n",
    "        y_test_fall.append(1)\n",
    "        X_test_fall.append(temp)\n",
    "    else:\n",
    "        y_test_adl.append(0)\n",
    "        X_test_adl.append(temp)"
   ]
  },
  {
   "cell_type": "code",
   "execution_count": 5,
   "id": "02d0a894-3ff2-454d-9577-42a6d3deb2c1",
   "metadata": {},
   "outputs": [
    {
     "name": "stdout",
     "output_type": "stream",
     "text": [
      "1456\n",
      "15733\n"
     ]
    }
   ],
   "source": [
    "print(len(y_test_fall))\n",
    "print(len(y_test_adl))"
   ]
  },
  {
   "cell_type": "code",
   "execution_count": 6,
   "id": "0870c84d-a51c-4990-a606-56fb2593a2bd",
   "metadata": {},
   "outputs": [],
   "source": [
    "# to keep the balance between ADL and FALL data, used only part of ADL data\n",
    "\n",
    "X_test_adl = X_test_adl[:3216]\n",
    "y_test_adl = y_test_adl[:3216]\n",
    "\n",
    "y_test = y_test_adl + y_test_fall\n",
    "X_test = X_test_adl + X_test_fall"
   ]
  },
  {
   "cell_type": "code",
   "execution_count": 7,
   "id": "e2af5e37-4bd3-40ee-8f94-40207fe2973e",
   "metadata": {},
   "outputs": [
    {
     "name": "stdout",
     "output_type": "stream",
     "text": [
      "length of test data 4672\n"
     ]
    }
   ],
   "source": [
    "print('length of test data', len(X_test))"
   ]
  },
  {
   "cell_type": "code",
   "execution_count": 8,
   "id": "92329e68-a956-47aa-9bbb-470d523aa5c2",
   "metadata": {},
   "outputs": [
    {
     "name": "stdout",
     "output_type": "stream",
     "text": [
      "train data adl and fall ratio\n",
      "--------------------------------\n",
      "train data adl ratio:  31068\n",
      "train data fall ratio:  2912\n",
      "--------------------------------\n",
      "test data adl ratio:  3216\n",
      "test data fall ratio:  1456\n"
     ]
    }
   ],
   "source": [
    "print('train data adl and fall ratio')\n",
    "print('--------------------------------')\n",
    "cnt_train = collections.Counter(y_train)\n",
    "print('train data adl ratio: ', cnt_train[0])\n",
    "print('train data fall ratio: ', cnt_train[1])\n",
    "print('--------------------------------')\n",
    "\n",
    "cnt_test = collections.Counter(y_test)\n",
    "print('test data adl ratio: ', cnt_test[0])\n",
    "print('test data fall ratio: ', cnt_test[1])"
   ]
  },
  {
   "cell_type": "code",
   "execution_count": 9,
   "id": "2dbd43e3-fec5-478c-8393-bfba4e559b72",
   "metadata": {},
   "outputs": [],
   "source": [
    "import torch\n",
    "import torch.nn as nn\n",
    "\n",
    "class GRUNet(nn.Module):\n",
    "    def __init__(self, input_dim, hidden_dim, output_dim, n_layers):\n",
    "        super(GRUNet, self).__init__()\n",
    "        self.hidden_dim = hidden_dim\n",
    "        self.n_layers = n_layers\n",
    "\n",
    "        self.gru = nn.GRU(input_size=input_dim,\n",
    "                          hidden_size=hidden_dim,\n",
    "                          num_layers=n_layers,\n",
    "                          batch_first=True)\n",
    "        self.fc = nn.Linear(hidden_dim, output_dim)\n",
    "        self.relu = nn.ReLU()\n",
    "\n",
    "    def forward(self, x):\n",
    "        h0 = self.init_hidden(x)\n",
    "        out, hn = self.gru(x, h0)\n",
    "        out = self.fc(self.relu(out[:, -1]))\n",
    "        return out\n",
    "\n",
    "    def init_hidden(self, x):\n",
    "        h0 = torch.zeros(self.n_layers, x.size(0), self.hidden_dim)\n",
    "        return h0"
   ]
  },
  {
   "cell_type": "code",
   "execution_count": 10,
   "id": "29cb4d70-837d-4599-9d31-5f599849bd86",
   "metadata": {},
   "outputs": [],
   "source": [
    "X_train = np.asarray(X_train).reshape(-1, 40, 3)\n",
    "y_train = np.asarray(y_train).reshape(-1, )\n",
    "\n",
    "X_test = np.asarray(X_test).reshape(-1, 40, 3)\n",
    "y_test = np.asarray(y_test).reshape(-1, )"
   ]
  },
  {
   "cell_type": "code",
   "execution_count": 11,
   "id": "bf7e2d3d-e24a-4f20-a2c9-a86eb29fef8e",
   "metadata": {},
   "outputs": [],
   "source": [
    "from sklearn.preprocessing import LabelEncoder\n",
    "enc = LabelEncoder()\n",
    "\n",
    "y_train = enc.fit_transform(y_train)\n",
    "y_test = enc.fit_transform(y_test)"
   ]
  },
  {
   "cell_type": "code",
   "execution_count": 12,
   "id": "95e8e65b-323b-46b6-95b1-65b961eace20",
   "metadata": {},
   "outputs": [],
   "source": [
    "X_train, X_valid, y_train, y_valid = train_test_split(X_train, y_train, test_size=0.1)"
   ]
  },
  {
   "cell_type": "code",
   "execution_count": 13,
   "id": "acf5a8ce-ca2a-40ca-b1ab-63b3bdebe3e9",
   "metadata": {},
   "outputs": [],
   "source": [
    "from torch.nn import functional as F\n",
    "from torch.utils.data import TensorDataset, DataLoader\n",
    "from torch.optim.lr_scheduler import _LRScheduler\n",
    "\n",
    "batch_size = 128\n",
    "\n",
    "train_data = TensorDataset(torch.from_numpy(X_train), torch.from_numpy(y_train))\n",
    "train_loader = torch.utils.data.DataLoader(\n",
    "    train_data,\n",
    "    shuffle=True, batch_size=batch_size)\n",
    "\n",
    "valid_data = TensorDataset(torch.from_numpy(X_valid), torch.from_numpy(y_valid))\n",
    "valid_loader = torch.utils.data.DataLoader(\n",
    "    valid_data,\n",
    "    shuffle=True, batch_size=batch_size)\n",
    "\n",
    "test_data =TensorDataset(torch.from_numpy(X_test), torch.from_numpy(y_test))\n",
    "test_loader = torch.utils.data.DataLoader(\n",
    "    test_data,\n",
    "    shuffle=True, batch_size=batch_size)"
   ]
  },
  {
   "cell_type": "code",
   "execution_count": 14,
   "id": "863ee635-5ecf-4a4d-9b82-6503ae336dc5",
   "metadata": {},
   "outputs": [],
   "source": [
    "from torch.optim.lr_scheduler import CyclicLR\n",
    "from torch.optim.lr_scheduler import CosineAnnealingLR as cosine\n",
    "from torch.optim.lr_scheduler import CyclicLR, CosineAnnealingLR\n",
    "import time"
   ]
  },
  {
   "cell_type": "code",
   "execution_count": 15,
   "id": "37840308-5f56-405d-bd47-e2ec90dc987a",
   "metadata": {},
   "outputs": [
    {
     "name": "stdout",
     "output_type": "stream",
     "text": [
      "GRUNet(\n",
      "  (gru): GRU(3, 256, num_layers=2, batch_first=True)\n",
      "  (fc): Linear(in_features=256, out_features=2, bias=True)\n",
      "  (relu): ReLU()\n",
      ")\n"
     ]
    }
   ],
   "source": [
    "# Model parameters\n",
    "input_dim = next(iter(train_loader))[0].shape[2]\n",
    "output_dim = 2\n",
    "n_layers = 2\n",
    "hidden_dim = 256\n",
    "\n",
    "lr = 0.0001\n",
    "n_epochs = 10\n",
    "iterations_per_epoch = len(train_loader)\n",
    "best_acc = 0.\n",
    "patience, trials = 15, 0\n",
    "\n",
    "# Instantiate the model on CPU\n",
    "model = GRUNet(input_dim, hidden_dim, output_dim, n_layers)\n",
    "print(model)\n",
    "\n",
    "\n",
    "# Loss function and optimizer\n",
    "criterion = nn.CrossEntropyLoss()\n",
    "optimizer = torch.optim.Adam(model.parameters(), lr=lr)\n",
    "sched = CosineAnnealingLR(optimizer, T_max=n_epochs, eta_min=lr/10)  # Using CosineAnnealingLR\n",
    "epoch_times = []"
   ]
  },
  {
   "cell_type": "code",
   "execution_count": 31,
   "id": "2ed44ab0-9574-447a-b375-76a40aeab5fb",
   "metadata": {},
   "outputs": [
    {
     "name": "stdout",
     "output_type": "stream",
     "text": [
      "Epoch [1/10], Loss: 0.3322, Accuracy: 91.42%, Time: 174.05 sec\n",
      "Validation Loss: 0.2837, Validation Accuracy: 91.55%\n",
      "Epoch [2/10], Loss: 0.2433, Accuracy: 91.69%, Time: 168.64 sec\n",
      "Validation Loss: 0.1810, Validation Accuracy: 92.64%\n",
      "Epoch [3/10], Loss: 0.1596, Accuracy: 93.65%, Time: 168.75 sec\n",
      "Validation Loss: 0.1205, Validation Accuracy: 94.94%\n",
      "Epoch [4/10], Loss: 0.1034, Accuracy: 95.96%, Time: 170.66 sec\n",
      "Validation Loss: 0.0973, Validation Accuracy: 96.12%\n",
      "Epoch [5/10], Loss: 0.0865, Accuracy: 96.70%, Time: 165.79 sec\n",
      "Validation Loss: 0.0755, Validation Accuracy: 97.06%\n",
      "Epoch [6/10], Loss: 0.0735, Accuracy: 97.24%, Time: 169.91 sec\n",
      "Validation Loss: 0.0686, Validation Accuracy: 97.47%\n",
      "Epoch [7/10], Loss: 0.0664, Accuracy: 97.54%, Time: 170.51 sec\n",
      "Validation Loss: 0.0616, Validation Accuracy: 97.88%\n",
      "Epoch [8/10], Loss: 0.0629, Accuracy: 97.69%, Time: 165.80 sec\n",
      "Validation Loss: 0.0601, Validation Accuracy: 97.91%\n",
      "Epoch [9/10], Loss: 0.0614, Accuracy: 97.73%, Time: 162.28 sec\n",
      "Validation Loss: 0.0612, Validation Accuracy: 97.94%\n",
      "Epoch [10/10], Loss: 0.0595, Accuracy: 97.88%, Time: 173.53 sec\n",
      "Validation Loss: 0.0604, Validation Accuracy: 97.97%\n",
      "Total Training Time: 1689.92 seconds\n"
     ]
    }
   ],
   "source": [
    "# Training loop with accuracy computation and validation\n",
    "epoch_times = []\n",
    "train_losses = []\n",
    "train_accuracies = []\n",
    "\n",
    "for epoch in range(n_epochs):\n",
    "    model.train()\n",
    "    epoch_start_time = time.time()\n",
    "    correct = 0\n",
    "    total = 0\n",
    "    epoch_loss = 0.0\n",
    "\n",
    "    # Training loop\n",
    "    for batch_idx, (data, target) in enumerate(train_loader):\n",
    "        optimizer.zero_grad()\n",
    "        output = model(data.float())  # Ensure data is converted to float\n",
    "        loss = criterion(output, target)\n",
    "        loss.backward()\n",
    "        optimizer.step()\n",
    "        \n",
    "        epoch_loss += loss.item() * data.size(0)\n",
    "\n",
    "        _, predicted = torch.max(output.data, 1)\n",
    "        total += target.size(0)\n",
    "        correct += (predicted == target).sum().item()\n",
    "\n",
    "    # Compute training loss and accuracy\n",
    "    train_losses.append(epoch_loss / len(train_loader.dataset))\n",
    "    train_accuracy = correct / total\n",
    "    train_accuracies.append(train_accuracy)\n",
    "\n",
    "    # Step scheduler\n",
    "    sched.step()\n",
    "\n",
    "    # Compute epoch time\n",
    "    epoch_end_time = time.time()\n",
    "    epoch_times.append(epoch_end_time - epoch_start_time)\n",
    "\n",
    "    # Print training progress\n",
    "    print(f\"Epoch [{epoch+1}/{n_epochs}], Loss: {train_losses[-1]:.4f}, Accuracy: {train_accuracy:.2%}, Time: {epoch_end_time - epoch_start_time:.2f} sec\")\n",
    "\n",
    "    # Validation loop\n",
    "    model.eval()\n",
    "    val_correct = 0\n",
    "    val_total = 0\n",
    "    val_loss = 0.0\n",
    "\n",
    "    with torch.no_grad():\n",
    "        for val_data, val_target in valid_loader:\n",
    "            val_output = model(val_data.float())\n",
    "            val_loss += criterion(val_output, val_target).item() * val_data.size(0)\n",
    "            _, val_predicted = torch.max(val_output.data, 1)\n",
    "            val_total += val_target.size(0)\n",
    "            val_correct += (val_pre`dicted == val_target).sum().item()\n",
    "\n",
    "    # Compute validation loss and accuracy\n",
    "    val_loss = val_loss / len(valid_loader.dataset)\n",
    "    val_accuracy = val_correct / val_total\n",
    "\n",
    "    # Print validation metrics\n",
    "    print(f\"Validation Loss: {val_loss:.4f}, Validation Accuracy: {val_accuracy:.2%}\")\n",
    "\n",
    "    # Optionally, you can add code here to save the best model based on validation accuracy\n",
    "\n",
    "print(f\"Total Training Time: {sum(epoch_times):.2f} seconds\")\n"
   ]
  },
  {
   "cell_type": "code",
   "execution_count": 33,
   "id": "71a3f6e5-7b3f-4700-94eb-97bcc999c981",
   "metadata": {},
   "outputs": [
    {
     "data": {
      "image/png": "[encoded data removed]",
      "text/plain": [
       "<Figure size 1000x300 with 2 Axes>"
      ]
     },
     "metadata": {},
     "output_type": "display_data"
    }
   ],
   "source": [
    "plt.figure(figsize=(10, 3))\n",
    "plt.suptitle('GRU Model', fontsize=20, y=1.1)\n",
    "plt.subplot(1, 2, 1)\n",
    "plt.plot(np.arange(len(train_losses)), train_losses)\n",
    "plt.yticks([0.0, 0.1, 0.2], fontsize=15)\n",
    "plt.xticks([0, 20, 40], fontsize=15)\n",
    "plt.title('Loss', fontsize=20)\n",
    "\n",
    "plt.subplot(1, 2, 2)\n",
    "plt.plot(np.arange(len(train_accuracies)), train_accuracies)\n",
    "plt.yticks([0.94, 0.97, 1.0], fontsize=15)\n",
    "plt.xticks([0, 20, 40], fontsize=15)\n",
    "plt.title('Accuracy',fontsize=20)\n",
    "plt.subplots_adjust(hspace=1)\n",
    "\n",
    "plt.show()"
   ]
  },
  {
   "cell_type": "code",
   "execution_count": 34,
   "id": "ef48bb73-2edd-40f0-9ed6-71620189bf08",
   "metadata": {},
   "outputs": [
    {
     "name": "stdout",
     "output_type": "stream",
     "text": [
      "Test Accuracy: 94.14%\n",
      "Confusion Matrix:\n",
      "[[3138   78]\n",
      " [ 196 1260]]\n",
      "Classification Report:\n",
      "              precision    recall  f1-score   support\n",
      "\n",
      "           0       0.94      0.98      0.96      3216\n",
      "           1       0.94      0.87      0.90      1456\n",
      "\n",
      "    accuracy                           0.94      4672\n",
      "   macro avg       0.94      0.92      0.93      4672\n",
      "weighted avg       0.94      0.94      0.94      4672\n",
      "\n"
     ]
    }
   ],
   "source": [
    "# evaluation with test dataset\n",
    "from sklearn.metrics import classification_report, confusion_matrix, accuracy_score\n",
    "\n",
    "targets = []\n",
    "preds = []\n",
    "correct = 0\n",
    "\n",
    "# Evaluate on test data\n",
    "with torch.no_grad():\n",
    "    for X, y in test_loader:\n",
    "        output = model(X.float())\n",
    "        pred = output.max(1, keepdim=True)[1]\n",
    "        correct += pred.eq(y.view_as(pred)).sum().item()\n",
    "\n",
    "        targets += list(y.numpy())\n",
    "        preds += list(pred.numpy())\n",
    "\n",
    "# Calculate test accuracy\n",
    "test_acc = 100. * correct / len(test_loader.dataset)\n",
    "print(f\"Test Accuracy: {test_acc:.2f}%\")\n",
    "\n",
    "# Calculate and print confusion matrix\n",
    "confusion_mtx = confusion_matrix(targets, preds)\n",
    "print(\"Confusion Matrix:\")\n",
    "print(confusion_mtx)\n",
    "\n",
    "# Optionally, you can print classification report\n",
    "print(\"Classification Report:\")\n",
    "print(classification_report(targets, preds))\n"
   ]
  },
  {
   "cell_type": "code",
   "execution_count": 35,
   "id": "671a6b2a-9464-437d-987e-1755867a1f17",
   "metadata": {},
   "outputs": [
    {
     "name": "stdout",
     "output_type": "stream",
     "text": [
      "0.901932712956335\n",
      "0.8653846153846154\n",
      "0.9417040358744395\n"
     ]
    }
   ],
   "source": [
    "from sklearn.metrics import f1_score, recall_score, precision_score\n",
    "\n",
    "print(f1_score(targets, preds))\n",
    "print(recall_score(targets, preds))\n",
    "print(precision_score(targets, preds))"
   ]
  },
  {
   "cell_type": "code",
   "execution_count": null,
   "id": "6c2496c3-4bb7-4281-9a20-046b097f6d2c",
   "metadata": {},
   "outputs": [],
   "source": []
  }
 ],
 "metadata": {
  "kernelspec": {
   "display_name": "Python 3 (ipykernel)",
   "language": "python",
   "name": "python3"
  },
  "language_info": {
   "codemirror_mode": {
    "name": "ipython",
    "version": 3
   },
   "file_extension": ".py",
   "mimetype": "text/x-python",
   "name": "python",
   "nbconvert_exporter": "python",
   "pygments_lexer": "ipython3",
   "version": "3.8.0"
  }
 },
 "nbformat": 4,
 "nbformat_minor": 5
}
